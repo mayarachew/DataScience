{
  "cells": [
    {
      "cell_type": "markdown",
      "metadata": {
        "id": "x_cmbUgsOEfR"
      },
      "source": [
        "# Conversão de arquivos .csv para outros formatos"
      ]
    },
    {
      "cell_type": "markdown",
      "metadata": {
        "id": "rEx6pQ3-MYaK"
      },
      "source": [
        "Notebook que faz conversões de um arquivo .csv para .parquet e .jsonl.\n",
        "\n",
        "Dataset utilizado: https://www.kaggle.com/datasets/rtatman/digidb?resource=download"
      ]
    },
    {
      "cell_type": "code",
      "execution_count": 1,
      "metadata": {
        "id": "EykmTQLHM3NI"
      },
      "outputs": [],
      "source": [
        "import pandas as pd\n",
        "import json"
      ]
    },
    {
      "cell_type": "code",
      "execution_count": 2,
      "metadata": {
        "id": "E_wKolGlM_l6"
      },
      "outputs": [],
      "source": [
        "df = pd.read_csv('input/DigiDB_digimonlist.csv')"
      ]
    },
    {
      "cell_type": "markdown",
      "metadata": {
        "id": "3GOMbMyZNAlN"
      },
      "source": [
        "## Conversão .csv para .parquet"
      ]
    },
    {
      "cell_type": "code",
      "execution_count": 3,
      "metadata": {
        "id": "2mLmqCPeL-8z"
      },
      "outputs": [],
      "source": [
        "# Convert .csv to .parquet\n",
        "df_parquet = df.to_parquet('output/DigiDB_digimonlist.parquet')"
      ]
    },
    {
      "cell_type": "markdown",
      "metadata": {
        "id": "AwVcE-v-R5Ye"
      },
      "source": [
        "Verifica se a conversão deu certo revertendo a operação"
      ]
    },
    {
      "cell_type": "code",
      "execution_count": 4,
      "metadata": {
        "id": "QN9W7vQjR5Bs"
      },
      "outputs": [],
      "source": [
        "df_parquet_csv = pd.read_parquet('output/DigiDB_digimonlist.parquet')\n",
        "df_parquet_csv.to_csv('output/DigiDB_digimonlist_parquet.csv')"
      ]
    },
    {
      "cell_type": "code",
      "execution_count": 5,
      "metadata": {
        "colab": {
          "base_uri": "https://localhost:8080/",
          "height": 206
        },
        "id": "9h35O2bNScFh",
        "outputId": "ef42707e-9f53-48d9-89b7-8e8745a9f767"
      },
      "outputs": [
        {
          "data": {
            "text/html": [
              "\n",
              "  <div id=\"df-9652ef8b-b272-4e39-952d-23b0523b3900\">\n",
              "    <div class=\"colab-df-container\">\n",
              "      <div>\n",
              "<style scoped>\n",
              "    .dataframe tbody tr th:only-of-type {\n",
              "        vertical-align: middle;\n",
              "    }\n",
              "\n",
              "    .dataframe tbody tr th {\n",
              "        vertical-align: top;\n",
              "    }\n",
              "\n",
              "    .dataframe thead th {\n",
              "        text-align: right;\n",
              "    }\n",
              "</style>\n",
              "<table border=\"1\" class=\"dataframe\">\n",
              "  <thead>\n",
              "    <tr style=\"text-align: right;\">\n",
              "      <th></th>\n",
              "      <th>Number</th>\n",
              "      <th>Digimon</th>\n",
              "      <th>Stage</th>\n",
              "      <th>Type</th>\n",
              "      <th>Attribute</th>\n",
              "      <th>Memory</th>\n",
              "      <th>Equip Slots</th>\n",
              "      <th>Lv 50 HP</th>\n",
              "      <th>Lv50 SP</th>\n",
              "      <th>Lv50 Atk</th>\n",
              "      <th>Lv50 Def</th>\n",
              "      <th>Lv50 Int</th>\n",
              "      <th>Lv50 Spd</th>\n",
              "    </tr>\n",
              "  </thead>\n",
              "  <tbody>\n",
              "    <tr>\n",
              "      <th>0</th>\n",
              "      <td>1</td>\n",
              "      <td>Kuramon</td>\n",
              "      <td>Baby</td>\n",
              "      <td>Free</td>\n",
              "      <td>Neutral</td>\n",
              "      <td>2</td>\n",
              "      <td>0</td>\n",
              "      <td>590</td>\n",
              "      <td>77</td>\n",
              "      <td>79</td>\n",
              "      <td>69</td>\n",
              "      <td>68</td>\n",
              "      <td>95</td>\n",
              "    </tr>\n",
              "    <tr>\n",
              "      <th>1</th>\n",
              "      <td>2</td>\n",
              "      <td>Pabumon</td>\n",
              "      <td>Baby</td>\n",
              "      <td>Free</td>\n",
              "      <td>Neutral</td>\n",
              "      <td>2</td>\n",
              "      <td>0</td>\n",
              "      <td>950</td>\n",
              "      <td>62</td>\n",
              "      <td>76</td>\n",
              "      <td>76</td>\n",
              "      <td>69</td>\n",
              "      <td>68</td>\n",
              "    </tr>\n",
              "    <tr>\n",
              "      <th>2</th>\n",
              "      <td>3</td>\n",
              "      <td>Punimon</td>\n",
              "      <td>Baby</td>\n",
              "      <td>Free</td>\n",
              "      <td>Neutral</td>\n",
              "      <td>2</td>\n",
              "      <td>0</td>\n",
              "      <td>870</td>\n",
              "      <td>50</td>\n",
              "      <td>97</td>\n",
              "      <td>87</td>\n",
              "      <td>50</td>\n",
              "      <td>75</td>\n",
              "    </tr>\n",
              "    <tr>\n",
              "      <th>3</th>\n",
              "      <td>4</td>\n",
              "      <td>Botamon</td>\n",
              "      <td>Baby</td>\n",
              "      <td>Free</td>\n",
              "      <td>Neutral</td>\n",
              "      <td>2</td>\n",
              "      <td>0</td>\n",
              "      <td>690</td>\n",
              "      <td>68</td>\n",
              "      <td>77</td>\n",
              "      <td>95</td>\n",
              "      <td>76</td>\n",
              "      <td>61</td>\n",
              "    </tr>\n",
              "    <tr>\n",
              "      <th>4</th>\n",
              "      <td>5</td>\n",
              "      <td>Poyomon</td>\n",
              "      <td>Baby</td>\n",
              "      <td>Free</td>\n",
              "      <td>Neutral</td>\n",
              "      <td>2</td>\n",
              "      <td>0</td>\n",
              "      <td>540</td>\n",
              "      <td>98</td>\n",
              "      <td>54</td>\n",
              "      <td>59</td>\n",
              "      <td>95</td>\n",
              "      <td>86</td>\n",
              "    </tr>\n",
              "  </tbody>\n",
              "</table>\n",
              "</div>\n",
              "      <button class=\"colab-df-convert\" onclick=\"convertToInteractive('df-9652ef8b-b272-4e39-952d-23b0523b3900')\"\n",
              "              title=\"Convert this dataframe to an interactive table.\"\n",
              "              style=\"display:none;\">\n",
              "        \n",
              "  <svg xmlns=\"http://www.w3.org/2000/svg\" height=\"24px\"viewBox=\"0 0 24 24\"\n",
              "       width=\"24px\">\n",
              "    <path d=\"M0 0h24v24H0V0z\" fill=\"none\"/>\n",
              "    <path d=\"M18.56 5.44l.94 2.06.94-2.06 2.06-.94-2.06-.94-.94-2.06-.94 2.06-2.06.94zm-11 1L8.5 8.5l.94-2.06 2.06-.94-2.06-.94L8.5 2.5l-.94 2.06-2.06.94zm10 10l.94 2.06.94-2.06 2.06-.94-2.06-.94-.94-2.06-.94 2.06-2.06.94z\"/><path d=\"M17.41 7.96l-1.37-1.37c-.4-.4-.92-.59-1.43-.59-.52 0-1.04.2-1.43.59L10.3 9.45l-7.72 7.72c-.78.78-.78 2.05 0 2.83L4 21.41c.39.39.9.59 1.41.59.51 0 1.02-.2 1.41-.59l7.78-7.78 2.81-2.81c.8-.78.8-2.07 0-2.86zM5.41 20L4 18.59l7.72-7.72 1.47 1.35L5.41 20z\"/>\n",
              "  </svg>\n",
              "      </button>\n",
              "      \n",
              "  <style>\n",
              "    .colab-df-container {\n",
              "      display:flex;\n",
              "      flex-wrap:wrap;\n",
              "      gap: 12px;\n",
              "    }\n",
              "\n",
              "    .colab-df-convert {\n",
              "      background-color: #E8F0FE;\n",
              "      border: none;\n",
              "      border-radius: 50%;\n",
              "      cursor: pointer;\n",
              "      display: none;\n",
              "      fill: #1967D2;\n",
              "      height: 32px;\n",
              "      padding: 0 0 0 0;\n",
              "      width: 32px;\n",
              "    }\n",
              "\n",
              "    .colab-df-convert:hover {\n",
              "      background-color: #E2EBFA;\n",
              "      box-shadow: 0px 1px 2px rgba(60, 64, 67, 0.3), 0px 1px 3px 1px rgba(60, 64, 67, 0.15);\n",
              "      fill: #174EA6;\n",
              "    }\n",
              "\n",
              "    [theme=dark] .colab-df-convert {\n",
              "      background-color: #3B4455;\n",
              "      fill: #D2E3FC;\n",
              "    }\n",
              "\n",
              "    [theme=dark] .colab-df-convert:hover {\n",
              "      background-color: #434B5C;\n",
              "      box-shadow: 0px 1px 3px 1px rgba(0, 0, 0, 0.15);\n",
              "      filter: drop-shadow(0px 1px 2px rgba(0, 0, 0, 0.3));\n",
              "      fill: #FFFFFF;\n",
              "    }\n",
              "  </style>\n",
              "\n",
              "      <script>\n",
              "        const buttonEl =\n",
              "          document.querySelector('#df-9652ef8b-b272-4e39-952d-23b0523b3900 button.colab-df-convert');\n",
              "        buttonEl.style.display =\n",
              "          google.colab.kernel.accessAllowed ? 'block' : 'none';\n",
              "\n",
              "        async function convertToInteractive(key) {\n",
              "          const element = document.querySelector('#df-9652ef8b-b272-4e39-952d-23b0523b3900');\n",
              "          const dataTable =\n",
              "            await google.colab.kernel.invokeFunction('convertToInteractive',\n",
              "                                                     [key], {});\n",
              "          if (!dataTable) return;\n",
              "\n",
              "          const docLinkHtml = 'Like what you see? Visit the ' +\n",
              "            '<a target=\"_blank\" href=https://colab.research.google.com/notebooks/data_table.ipynb>data table notebook</a>'\n",
              "            + ' to learn more about interactive tables.';\n",
              "          element.innerHTML = '';\n",
              "          dataTable['output_type'] = 'display_data';\n",
              "          await google.colab.output.renderOutput(dataTable, element);\n",
              "          const docLink = document.createElement('div');\n",
              "          docLink.innerHTML = docLinkHtml;\n",
              "          element.appendChild(docLink);\n",
              "        }\n",
              "      </script>\n",
              "    </div>\n",
              "  </div>\n",
              "  "
            ],
            "text/plain": [
              "   Number  Digimon Stage  Type Attribute  Memory  Equip Slots  Lv 50 HP  \\\n",
              "0       1  Kuramon  Baby  Free   Neutral       2            0       590   \n",
              "1       2  Pabumon  Baby  Free   Neutral       2            0       950   \n",
              "2       3  Punimon  Baby  Free   Neutral       2            0       870   \n",
              "3       4  Botamon  Baby  Free   Neutral       2            0       690   \n",
              "4       5  Poyomon  Baby  Free   Neutral       2            0       540   \n",
              "\n",
              "   Lv50 SP  Lv50 Atk  Lv50 Def  Lv50 Int  Lv50 Spd  \n",
              "0       77        79        69        68        95  \n",
              "1       62        76        76        69        68  \n",
              "2       50        97        87        50        75  \n",
              "3       68        77        95        76        61  \n",
              "4       98        54        59        95        86  "
            ]
          },
          "execution_count": 5,
          "metadata": {},
          "output_type": "execute_result"
        }
      ],
      "source": [
        "df_parquet_csv.head()"
      ]
    },
    {
      "cell_type": "markdown",
      "metadata": {
        "id": "T3lYd5wlNF6C"
      },
      "source": [
        "## Conversão .csv para .jsonl"
      ]
    },
    {
      "cell_type": "code",
      "execution_count": 6,
      "metadata": {
        "id": "Il5iMPudUkGD"
      },
      "outputs": [],
      "source": [
        "# Convert .csv to .jsonl file\n",
        "df_json = df.to_json(\"output/DigiDB_digimonlist.jsonl\", orient=\"records\", lines=True)"
      ]
    },
    {
      "cell_type": "markdown",
      "metadata": {
        "id": "l3dcaVGueA49"
      },
      "source": [
        "Visualiza a primeira linha do arquivo"
      ]
    },
    {
      "cell_type": "code",
      "execution_count": 7,
      "metadata": {
        "colab": {
          "base_uri": "https://localhost:8080/"
        },
        "id": "hqYepONWeEf7",
        "outputId": "df9e1e76-1090-4044-b292-178cac31c134"
      },
      "outputs": [
        {
          "name": "stdout",
          "output_type": "stream",
          "text": [
            "{\"Number\":1,\"Digimon\":\"Kuramon\",\"Stage\":\"Baby\",\"Type\":\"Free\",\"Attribute\":\"Neutral\",\"Memory\":2,\"Equip Slots\":0,\"Lv 50 HP\":590,\"Lv50 SP\":77,\"Lv50 Atk\":79,\"Lv50 Def\":69,\"Lv50 Int\":68,\"Lv50 Spd\":95}\n"
          ]
        }
      ],
      "source": [
        "with open(\"output/DigiDB_digimonlist.jsonl\") as f:\n",
        "    lines = f.read()\n",
        "    first_line = lines.split('\\n', 1)[0]\n",
        "\n",
        "print(first_line)"
      ]
    },
    {
      "cell_type": "markdown",
      "metadata": {
        "id": "Ux5jXb1JVRoT"
      },
      "source": [
        "Verifica se a conversão deu certo revertendo a operação"
      ]
    },
    {
      "cell_type": "code",
      "execution_count": 8,
      "metadata": {
        "id": "3KBlPJteVRoU"
      },
      "outputs": [],
      "source": [
        "df_jsonl_csv = pd.read_json('output/DigiDB_digimonlist.jsonl', lines=True)\n",
        "df_jsonl_csv.to_csv('output/DigiDB_digimonlist_jsonl.csv')"
      ]
    },
    {
      "cell_type": "code",
      "execution_count": 9,
      "metadata": {
        "colab": {
          "base_uri": "https://localhost:8080/",
          "height": 206
        },
        "id": "43UTTmMkVRoU",
        "outputId": "33578de8-5fb3-4983-a514-0beec17dc563"
      },
      "outputs": [
        {
          "data": {
            "text/html": [
              "\n",
              "  <div id=\"df-224bd312-e715-4a72-ac26-daaa43f41dd5\">\n",
              "    <div class=\"colab-df-container\">\n",
              "      <div>\n",
              "<style scoped>\n",
              "    .dataframe tbody tr th:only-of-type {\n",
              "        vertical-align: middle;\n",
              "    }\n",
              "\n",
              "    .dataframe tbody tr th {\n",
              "        vertical-align: top;\n",
              "    }\n",
              "\n",
              "    .dataframe thead th {\n",
              "        text-align: right;\n",
              "    }\n",
              "</style>\n",
              "<table border=\"1\" class=\"dataframe\">\n",
              "  <thead>\n",
              "    <tr style=\"text-align: right;\">\n",
              "      <th></th>\n",
              "      <th>Number</th>\n",
              "      <th>Digimon</th>\n",
              "      <th>Stage</th>\n",
              "      <th>Type</th>\n",
              "      <th>Attribute</th>\n",
              "      <th>Memory</th>\n",
              "      <th>Equip Slots</th>\n",
              "      <th>Lv 50 HP</th>\n",
              "      <th>Lv50 SP</th>\n",
              "      <th>Lv50 Atk</th>\n",
              "      <th>Lv50 Def</th>\n",
              "      <th>Lv50 Int</th>\n",
              "      <th>Lv50 Spd</th>\n",
              "    </tr>\n",
              "  </thead>\n",
              "  <tbody>\n",
              "    <tr>\n",
              "      <th>0</th>\n",
              "      <td>1</td>\n",
              "      <td>Kuramon</td>\n",
              "      <td>Baby</td>\n",
              "      <td>Free</td>\n",
              "      <td>Neutral</td>\n",
              "      <td>2</td>\n",
              "      <td>0</td>\n",
              "      <td>590</td>\n",
              "      <td>77</td>\n",
              "      <td>79</td>\n",
              "      <td>69</td>\n",
              "      <td>68</td>\n",
              "      <td>95</td>\n",
              "    </tr>\n",
              "    <tr>\n",
              "      <th>1</th>\n",
              "      <td>2</td>\n",
              "      <td>Pabumon</td>\n",
              "      <td>Baby</td>\n",
              "      <td>Free</td>\n",
              "      <td>Neutral</td>\n",
              "      <td>2</td>\n",
              "      <td>0</td>\n",
              "      <td>950</td>\n",
              "      <td>62</td>\n",
              "      <td>76</td>\n",
              "      <td>76</td>\n",
              "      <td>69</td>\n",
              "      <td>68</td>\n",
              "    </tr>\n",
              "    <tr>\n",
              "      <th>2</th>\n",
              "      <td>3</td>\n",
              "      <td>Punimon</td>\n",
              "      <td>Baby</td>\n",
              "      <td>Free</td>\n",
              "      <td>Neutral</td>\n",
              "      <td>2</td>\n",
              "      <td>0</td>\n",
              "      <td>870</td>\n",
              "      <td>50</td>\n",
              "      <td>97</td>\n",
              "      <td>87</td>\n",
              "      <td>50</td>\n",
              "      <td>75</td>\n",
              "    </tr>\n",
              "    <tr>\n",
              "      <th>3</th>\n",
              "      <td>4</td>\n",
              "      <td>Botamon</td>\n",
              "      <td>Baby</td>\n",
              "      <td>Free</td>\n",
              "      <td>Neutral</td>\n",
              "      <td>2</td>\n",
              "      <td>0</td>\n",
              "      <td>690</td>\n",
              "      <td>68</td>\n",
              "      <td>77</td>\n",
              "      <td>95</td>\n",
              "      <td>76</td>\n",
              "      <td>61</td>\n",
              "    </tr>\n",
              "    <tr>\n",
              "      <th>4</th>\n",
              "      <td>5</td>\n",
              "      <td>Poyomon</td>\n",
              "      <td>Baby</td>\n",
              "      <td>Free</td>\n",
              "      <td>Neutral</td>\n",
              "      <td>2</td>\n",
              "      <td>0</td>\n",
              "      <td>540</td>\n",
              "      <td>98</td>\n",
              "      <td>54</td>\n",
              "      <td>59</td>\n",
              "      <td>95</td>\n",
              "      <td>86</td>\n",
              "    </tr>\n",
              "  </tbody>\n",
              "</table>\n",
              "</div>\n",
              "      <button class=\"colab-df-convert\" onclick=\"convertToInteractive('df-224bd312-e715-4a72-ac26-daaa43f41dd5')\"\n",
              "              title=\"Convert this dataframe to an interactive table.\"\n",
              "              style=\"display:none;\">\n",
              "        \n",
              "  <svg xmlns=\"http://www.w3.org/2000/svg\" height=\"24px\"viewBox=\"0 0 24 24\"\n",
              "       width=\"24px\">\n",
              "    <path d=\"M0 0h24v24H0V0z\" fill=\"none\"/>\n",
              "    <path d=\"M18.56 5.44l.94 2.06.94-2.06 2.06-.94-2.06-.94-.94-2.06-.94 2.06-2.06.94zm-11 1L8.5 8.5l.94-2.06 2.06-.94-2.06-.94L8.5 2.5l-.94 2.06-2.06.94zm10 10l.94 2.06.94-2.06 2.06-.94-2.06-.94-.94-2.06-.94 2.06-2.06.94z\"/><path d=\"M17.41 7.96l-1.37-1.37c-.4-.4-.92-.59-1.43-.59-.52 0-1.04.2-1.43.59L10.3 9.45l-7.72 7.72c-.78.78-.78 2.05 0 2.83L4 21.41c.39.39.9.59 1.41.59.51 0 1.02-.2 1.41-.59l7.78-7.78 2.81-2.81c.8-.78.8-2.07 0-2.86zM5.41 20L4 18.59l7.72-7.72 1.47 1.35L5.41 20z\"/>\n",
              "  </svg>\n",
              "      </button>\n",
              "      \n",
              "  <style>\n",
              "    .colab-df-container {\n",
              "      display:flex;\n",
              "      flex-wrap:wrap;\n",
              "      gap: 12px;\n",
              "    }\n",
              "\n",
              "    .colab-df-convert {\n",
              "      background-color: #E8F0FE;\n",
              "      border: none;\n",
              "      border-radius: 50%;\n",
              "      cursor: pointer;\n",
              "      display: none;\n",
              "      fill: #1967D2;\n",
              "      height: 32px;\n",
              "      padding: 0 0 0 0;\n",
              "      width: 32px;\n",
              "    }\n",
              "\n",
              "    .colab-df-convert:hover {\n",
              "      background-color: #E2EBFA;\n",
              "      box-shadow: 0px 1px 2px rgba(60, 64, 67, 0.3), 0px 1px 3px 1px rgba(60, 64, 67, 0.15);\n",
              "      fill: #174EA6;\n",
              "    }\n",
              "\n",
              "    [theme=dark] .colab-df-convert {\n",
              "      background-color: #3B4455;\n",
              "      fill: #D2E3FC;\n",
              "    }\n",
              "\n",
              "    [theme=dark] .colab-df-convert:hover {\n",
              "      background-color: #434B5C;\n",
              "      box-shadow: 0px 1px 3px 1px rgba(0, 0, 0, 0.15);\n",
              "      filter: drop-shadow(0px 1px 2px rgba(0, 0, 0, 0.3));\n",
              "      fill: #FFFFFF;\n",
              "    }\n",
              "  </style>\n",
              "\n",
              "      <script>\n",
              "        const buttonEl =\n",
              "          document.querySelector('#df-224bd312-e715-4a72-ac26-daaa43f41dd5 button.colab-df-convert');\n",
              "        buttonEl.style.display =\n",
              "          google.colab.kernel.accessAllowed ? 'block' : 'none';\n",
              "\n",
              "        async function convertToInteractive(key) {\n",
              "          const element = document.querySelector('#df-224bd312-e715-4a72-ac26-daaa43f41dd5');\n",
              "          const dataTable =\n",
              "            await google.colab.kernel.invokeFunction('convertToInteractive',\n",
              "                                                     [key], {});\n",
              "          if (!dataTable) return;\n",
              "\n",
              "          const docLinkHtml = 'Like what you see? Visit the ' +\n",
              "            '<a target=\"_blank\" href=https://colab.research.google.com/notebooks/data_table.ipynb>data table notebook</a>'\n",
              "            + ' to learn more about interactive tables.';\n",
              "          element.innerHTML = '';\n",
              "          dataTable['output_type'] = 'display_data';\n",
              "          await google.colab.output.renderOutput(dataTable, element);\n",
              "          const docLink = document.createElement('div');\n",
              "          docLink.innerHTML = docLinkHtml;\n",
              "          element.appendChild(docLink);\n",
              "        }\n",
              "      </script>\n",
              "    </div>\n",
              "  </div>\n",
              "  "
            ],
            "text/plain": [
              "   Number  Digimon Stage  Type Attribute  Memory  Equip Slots  Lv 50 HP  \\\n",
              "0       1  Kuramon  Baby  Free   Neutral       2            0       590   \n",
              "1       2  Pabumon  Baby  Free   Neutral       2            0       950   \n",
              "2       3  Punimon  Baby  Free   Neutral       2            0       870   \n",
              "3       4  Botamon  Baby  Free   Neutral       2            0       690   \n",
              "4       5  Poyomon  Baby  Free   Neutral       2            0       540   \n",
              "\n",
              "   Lv50 SP  Lv50 Atk  Lv50 Def  Lv50 Int  Lv50 Spd  \n",
              "0       77        79        69        68        95  \n",
              "1       62        76        76        69        68  \n",
              "2       50        97        87        50        75  \n",
              "3       68        77        95        76        61  \n",
              "4       98        54        59        95        86  "
            ]
          },
          "execution_count": 9,
          "metadata": {},
          "output_type": "execute_result"
        }
      ],
      "source": [
        "df_jsonl_csv.head()"
      ]
    },
    {
      "cell_type": "markdown",
      "metadata": {
        "id": "_rRDjdNagLh4"
      },
      "source": [
        "## Conversão .csv para .json"
      ]
    },
    {
      "cell_type": "code",
      "execution_count": 14,
      "metadata": {
        "id": "HclLIWTQgLh4"
      },
      "outputs": [],
      "source": [
        "# Convert .csv to .json file\n",
        "df_json = df.to_json(\"output/DigiDB_digimonlist.json\", orient=\"records\", lines=False)"
      ]
    },
    {
      "cell_type": "markdown",
      "metadata": {
        "id": "XuoIKMX1gLh4"
      },
      "source": [
        "Visualiza o arquivo"
      ]
    },
    {
      "cell_type": "code",
      "execution_count": 24,
      "metadata": {
        "colab": {
          "base_uri": "https://localhost:8080/"
        },
        "id": "orgy7DJFgLh5",
        "outputId": "af4f259a-558b-4c06-fd4e-533aad0a480f"
      },
      "outputs": [
        {
          "name": "stdout",
          "output_type": "stream",
          "text": [
            "[{\"Number\":1,\"Digimon\":\"Kuramon\",\"Stage\":\"Baby\",\"Type\":\"Free\",\"Attribute\":\"Neutral\",\"Memory\":2,\"Equip Slots\":0,\"Lv 50 HP\":590,\"Lv50 SP\":77,\"Lv50 Atk\":79,\"Lv50 Def\":69,\"Lv50 Int\":68,\"Lv50 Spd\":95},{\"Number\":2,\"Digimon\":\"Pabumon\",\"Stage\":\"Baby\",\"Type\":\"Free\",\"Attribute\":\"Neutral\",\"Memory\":2,\"Equip Slots\":0,\"Lv 50 HP\":950,\"Lv50 SP\":62,\"Lv50 Atk\":76,\"Lv50 Def\":76,\"Lv50 Int\":69,\"Lv50 Spd\":68},{\"Number\":3,\"Digimon\":\"Punimon\",\"Stage\":\"Baby\",\"Type\":\"Free\",\"Attribute\":\"Neutral\",\"Memory\":2,\"Equip Slots\":0,\"Lv 50 HP\":870,\"Lv50 SP\":50,\"Lv50 Atk\":97,\"Lv50 Def\":87,\"Lv50 Int\":50,\"Lv50 Spd\":75},{\"Number\":4,\"Digimon\":\"Botamon\",\"Stage\":\"Baby\",\"Type\":\"Free\",\"Attribute\":\"Neutral\",\"Memory\":2,\"Equip Slots\":0,\"Lv 50 HP\":690,\"Lv50 SP\":68,\"Lv50 Atk\":77,\"Lv50 Def\":95,\"Lv50 Int\":76,\"Lv50 Spd\":61},{\"Number\":5,\"Digimon\":\"Poyomon\",\"Stage\":\"Baby\",\"Type\":\"Free\",\"Attribute\":\"Neutral\",\"Memory\":2,\"Equip Slots\":0,\"Lv 50 HP\":540,\"Lv50 SP\":98,\"Lv50 Atk\":54,\"Lv50 Def\":59,\"Lv50 Int\":95,\"Lv50 Spd\":86},{\"Number\":6,\"Digimon\":\"Koromon\",\"Stage\":\"In-Training\",\"Type\":\"Free\",\"Attribute\":\"Fire\",\"Memory\":3,\"Equip Slots\":0,\"Lv 50 HP\":940,\"Lv50 SP\":52,\"Lv50 Atk\":109,\"Lv50 Def\":93,\"Lv50 Int\":52,\"Lv50 Spd\":76},{\"Number\":7,\"Digimon\":\"Tanemon\",\"Stage\":\"In-Training\",\"Type\":\"Free\",\"Attribute\":\"Plant\",\"Memory\":3,\"Equip Slots\":0,\"Lv 50 HP\":1030,\"Lv50 SP\":64,\"Lv50 Atk\":85,\"Lv50 Def\":82,\"Lv50 Int\":73,\"Lv50 Spd\":69},{\"Number\":8,\"Digimon\":\"Tsunomon\",\"Stage\":\"In-Training\",\"Type\":\"Free\",\"Attribute\":\"Earth\",\"Memory\":3,\"Equip Slots\":0,\"Lv 50 HP\":930,\"Lv50 SP\":54,\"Lv50 Atk\":107,\"Lv50 Def\":92,\"Lv50 Int\":54,\"Lv50 Spd\":76},{\"Number\":9,\"Digimon\":\"Tsumemon\",\"Stage\":\"In-Training\",\"Type\":\"Free\",\"Attribute\":\"Dark\",\"Memory\":3,\"Equip Slots\":0,\"Lv 50 HP\":930,\"Lv50 SP\":64,\"Lv50 Atk\":108,\"Lv50 Def\":64,\"Lv50 Int\":54,\"Lv50 Spd\":93},{\"Number\":10,\"Digimon\":\"Tokomon\",\"Stage\":\"In-Training\",\"Type\":\"Free\",\"Attribute\":\"Neutral\",\"Memory\":3,\"Equip Slots\":0,\"Lv 50 HP\":640,\"Lv50 SP\":86,\"Lv50 Atk\":76,\"Lv50 Def\":74,\"Lv50 Int\":74,\"Lv50 Spd\":103},{\"Number\":11,\"Digimon\":\"Nyaromon\",\"Stage\":\"In-Training\",\"Type\":\"Free\",\"Attribute\":\"Light\",\"Memory\":3,\"Equip Slots\":0,\"Lv 50 HP\":540,\"Lv50 SP\":107,\"Lv50 Atk\":54,\"Lv50 Def\":64,\"Lv50 Int\":103,\"Lv50 Spd\":94},{\"Number\":12,\"Digimon\":\"Pagumon\",\"Stage\":\"In-Training\",\"Type\":\"Free\",\"Attribute\":\"Dark\",\"Memory\":3,\"Equip Slots\":0,\"Lv 50 HP\":550,\"Lv50 SP\":103,\"Lv50 Atk\":60,\"Lv50 Def\":63,\"Lv50 Int\":102,\"Lv50 Spd\":93},{\"Number\":13,\"Digimon\":\"Yokomon\",\"Stage\":\"In-Training\",\"Type\":\"Free\",\"Attribute\":\"Plant\",\"Memory\":3,\"Equip Slots\":0,\"Lv 50 HP\":1040,\"Lv50 SP\":64,\"Lv50 Atk\":82,\"Lv50 Def\":82,\"Lv50 Int\":75,\"Lv50 Spd\":69},{\"Number\":14,\"Digimon\":\"Bukamon\",\"Stage\":\"In-Training\",\"Type\":\"Free\",\"Attribute\":\"Water\",\"Memory\":3,\"Equip Slots\":0,\"Lv 50 HP\":830,\"Lv50 SP\":93,\"Lv50 Atk\":54,\"Lv50 Def\":74,\"Lv50 Int\":103,\"Lv50 Spd\":69},{\"Number\":15,\"Digimon\":\"Motimon\",\"Stage\":\"In-Training\",\"Type\":\"Free\",\"Attribute\":\"Neutral\",\"Memory\":3,\"Equip Slots\":0,\"Lv 50 HP\":1030,\"Lv50 SP\":63,\"Lv50 Atk\":82,\"Lv50 Def\":81,\"Lv50 Int\":78,\"Lv50 Spd\":69},{\"Number\":16,\"Digimon\":\"Wanyamon\",\"Stage\":\"In-Training\",\"Type\":\"Free\",\"Attribute\":\"Wind\",\"Memory\":3,\"Equip Slots\":0,\"Lv 50 HP\":830,\"Lv50 SP\":82,\"Lv50 Atk\":79,\"Lv50 Def\":75,\"Lv50 Int\":75,\"Lv50 Spd\":82},{\"Number\":17,\"Digimon\":\"Agumon\",\"Stage\":\"Rookie\",\"Type\":\"Vaccine\",\"Attribute\":\"Fire\",\"Memory\":5,\"Equip Slots\":1,\"Lv 50 HP\":1030,\"Lv50 SP\":59,\"Lv50 Atk\":131,\"Lv50 Def\":103,\"Lv50 Int\":54,\"Lv50 Spd\":86},{\"Number\":18,\"Digimon\":\"Agumon (Blk)\",\"Stage\":\"Rookie\",\"Type\":\"Virus\",\"Attribute\":\"Fire\",\"Memory\":5,\"Equip Slots\":1,\"Lv 50 HP\":1020,\"Lv50 SP\":56,\"Lv50 Atk\":124,\"Lv50 Def\":108,\"Lv50 Int\":56,\"Lv50 Spd\":85},{\"Number\":19,\"Digimon\":\"Armadillomon\",\"Stage\":\"Rookie\",\"Type\":\"Free\",\"Attribute\":\"Earth\",\"Memory\":4,\"Equip Slots\":1,\"Lv 50 HP\":1160,\"Lv50 SP\":85,\"Lv50 Atk\":67,\"Lv50 Def\":111,\"Lv50 Int\":65,\"Lv50 Spd\":72},{\"Number\":20,\"Digimon\":\"Impmon\",\"Stage\":\"Rookie\",\"Type\":\"Virus\",\"Attribute\":\"Dark\",\"Memory\":5,\"Equip Slots\":1,\"Lv 50 HP\":530,\"Lv50 SP\":114,\"Lv50 Atk\":83,\"Lv50 Def\":65,\"Lv50 Int\":114,\"Lv50 Spd\":102},{\"Number\":21,\"Digimon\":\"Elecmon\",\"Stage\":\"Rookie\",\"Type\":\"Data\",\"Attribute\":\"Electric\",\"Memory\":4,\"Equip Slots\":1,\"Lv 50 HP\":930,\"Lv50 SP\":93,\"Lv50 Atk\":82,\"Lv50 Def\":79,\"Lv50 Int\":79,\"Lv50 Spd\":90},{\"Number\":22,\"Digimon\":\"Otamamon\",\"Stage\":\"Rookie\",\"Type\":\"Virus\",\"Attribute\":\"Water\",\"Memory\":4,\"Equip Slots\":1,\"Lv 50 HP\":930,\"Lv50 SP\":105,\"Lv50 Atk\":52,\"Lv50 Def\":75,\"Lv50 Int\":113,\"Lv50 Spd\":78},{\"Number\":23,\"Digimon\":\"Gaomon\",\"Stage\":\"Rookie\",\"Type\":\"Data\",\"Attribute\":\"Neutral\",\"Memory\":5,\"Equip Slots\":1,\"Lv 50 HP\":1030,\"Lv50 SP\":69,\"Lv50 Atk\":118,\"Lv50 Def\":74,\"Lv50 Int\":66,\"Lv50 Spd\":101},{\"Number\":24,\"Digimon\":\"Gazimon\",\"Stage\":\"Rookie\",\"Type\":\"Virus\",\"Attribute\":\"Dark\",\"Memory\":4,\"Equip Slots\":1,\"Lv 50 HP\":970,\"Lv50 SP\":71,\"Lv50 Atk\":123,\"Lv50 Def\":64,\"Lv50 Int\":59,\"Lv50 Spd\":102},{\"Number\":25,\"Digimon\":\"Gabumon\",\"Stage\":\"Rookie\",\"Type\":\"Data\",\"Attribute\":\"Fire\",\"Memory\":5,\"Equip Slots\":1,\"Lv 50 HP\":980,\"Lv50 SP\":88,\"Lv50 Atk\":94,\"Lv50 Def\":81,\"Lv50 Int\":79,\"Lv50 Spd\":91},{\"Number\":26,\"Digimon\":\"Gabumon (Blk)\",\"Stage\":\"Rookie\",\"Type\":\"Virus\",\"Attribute\":\"Fire\",\"Memory\":5,\"Equip Slots\":1,\"Lv 50 HP\":950,\"Lv50 SP\":83,\"Lv50 Atk\":99,\"Lv50 Def\":89,\"Lv50 Int\":74,\"Lv50 Spd\":91},{\"Number\":27,\"Digimon\":\"Guilmon\",\"Stage\":\"Rookie\",\"Type\":\"Virus\",\"Attribute\":\"Fire\",\"Memory\":5,\"Equip Slots\":1,\"Lv 50 HP\":1050,\"Lv50 SP\":69,\"Lv50 Atk\":133,\"Lv50 Def\":74,\"Lv50 Int\":54,\"Lv50 Spd\":101},{\"Number\":28,\"Digimon\":\"Kudamon\",\"Stage\":\"Rookie\",\"Type\":\"Vaccine\",\"Attribute\":\"Light\",\"Memory\":5,\"Equip Slots\":1,\"Lv 50 HP\":590,\"Lv50 SP\":128,\"Lv50 Atk\":53,\"Lv50 Def\":74,\"Lv50 Int\":117,\"Lv50 Spd\":105},{\"Number\":29,\"Digimon\":\"Keramon\",\"Stage\":\"Rookie\",\"Type\":\"Free\",\"Attribute\":\"Dark\",\"Memory\":5,\"Equip Slots\":1,\"Lv 50 HP\":1030,\"Lv50 SP\":74,\"Lv50 Atk\":123,\"Lv50 Def\":69,\"Lv50 Int\":61,\"Lv50 Spd\":101},{\"Number\":30,\"Digimon\":\"Gotsumon\",\"Stage\":\"Rookie\",\"Type\":\"Data\",\"Attribute\":\"Earth\",\"Memory\":5,\"Equip Slots\":1,\"Lv 50 HP\":790,\"Lv50 SP\":79,\"Lv50 Atk\":93,\"Lv50 Def\":118,\"Lv50 Int\":90,\"Lv50 Spd\":72},{\"Number\":31,\"Digimon\":\"Goblimon\",\"Stage\":\"Rookie\",\"Type\":\"Virus\",\"Attribute\":\"Earth\",\"Memory\":4,\"Equip Slots\":1,\"Lv 50 HP\":1050,\"Lv50 SP\":51,\"Lv50 Atk\":115,\"Lv50 Def\":110,\"Lv50 Int\":51,\"Lv50 Spd\":84},{\"Number\":32,\"Digimon\":\"Gomamon\",\"Stage\":\"Rookie\",\"Type\":\"Vaccine\",\"Attribute\":\"Water\",\"Memory\":5,\"Equip Slots\":1,\"Lv 50 HP\":1160,\"Lv50 SP\":69,\"Lv50 Atk\":93,\"Lv50 Def\":93,\"Lv50 Int\":81,\"Lv50 Spd\":79},{\"Number\":33,\"Digimon\":\"Syakomon\",\"Stage\":\"Rookie\",\"Type\":\"Virus\",\"Attribute\":\"Water\",\"Memory\":4,\"Equip Slots\":1,\"Lv 50 HP\":870,\"Lv50 SP\":100,\"Lv50 Atk\":53,\"Lv50 Def\":86,\"Lv50 Int\":112,\"Lv50 Spd\":78},{\"Number\":34,\"Digimon\":\"Solarmon\",\"Stage\":\"Rookie\",\"Type\":\"Vaccine\",\"Attribute\":\"Light\",\"Memory\":4,\"Equip Slots\":1,\"Lv 50 HP\":1030,\"Lv50 SP\":88,\"Lv50 Atk\":69,\"Lv50 Def\":108,\"Lv50 Int\":71,\"Lv50 Spd\":77},{\"Number\":35,\"Digimon\":\"Terriermon\",\"Stage\":\"Rookie\",\"Type\":\"Vaccine\",\"Attribute\":\"Wind\",\"Memory\":4,\"Equip Slots\":1,\"Lv 50 HP\":690,\"Lv50 SP\":93,\"Lv50 Atk\":84,\"Lv50 Def\":75,\"Lv50 Int\":84,\"Lv50 Spd\":112},{\"Number\":36,\"Digimon\":\"Tentomon\",\"Stage\":\"Rookie\",\"Type\":\"Vaccine\",\"Attribute\":\"Plant\",\"Memory\":4,\"Equip Slots\":1,\"Lv 50 HP\":750,\"Lv50 SP\":79,\"Lv50 Atk\":86,\"Lv50 Def\":110,\"Lv50 Int\":93,\"Lv50 Spd\":73},{\"Number\":37,\"Digimon\":\"ToyAgumon\",\"Stage\":\"Rookie\",\"Type\":\"Vaccine\",\"Attribute\":\"Neutral\",\"Memory\":4,\"Equip Slots\":1,\"Lv 50 HP\":1110,\"Lv50 SP\":87,\"Lv50 Atk\":72,\"Lv50 Def\":112,\"Lv50 Int\":63,\"Lv50 Spd\":71},{\"Number\":38,\"Digimon\":\"Dorumon\",\"Stage\":\"Rookie\",\"Type\":\"Data\",\"Attribute\":\"Neutral\",\"Memory\":5,\"Equip Slots\":1,\"Lv 50 HP\":1020,\"Lv50 SP\":65,\"Lv50 Atk\":128,\"Lv50 Def\":79,\"Lv50 Int\":56,\"Lv50 Spd\":101},{\"Number\":39,\"Digimon\":\"Hagurumon\",\"Stage\":\"Rookie\",\"Type\":\"Virus\",\"Attribute\":\"Electric\",\"Memory\":4,\"Equip Slots\":1,\"Lv 50 HP\":1090,\"Lv50 SP\":91,\"Lv50 Atk\":66,\"Lv50 Def\":110,\"Lv50 Int\":69,\"Lv50 Spd\":71},{\"Number\":40,\"Digimon\":\"Patamon\",\"Stage\":\"Rookie\",\"Type\":\"Data\",\"Attribute\":\"Wind\",\"Memory\":4,\"Equip Slots\":1,\"Lv 50 HP\":880,\"Lv50 SP\":93,\"Lv50 Atk\":79,\"Lv50 Def\":74,\"Lv50 Int\":92,\"Lv50 Spd\":90},{\"Number\":41,\"Digimon\":\"Hackmon\",\"Stage\":\"Rookie\",\"Type\":\"Data\",\"Attribute\":\"Fire\",\"Memory\":5,\"Equip Slots\":1,\"Lv 50 HP\":1030,\"Lv50 SP\":59,\"Lv50 Atk\":118,\"Lv50 Def\":108,\"Lv50 Int\":63,\"Lv50 Spd\":85},{\"Number\":42,\"Digimon\":\"Palmon\",\"Stage\":\"Rookie\",\"Type\":\"Data\",\"Attribute\":\"Plant\",\"Memory\":5,\"Equip Slots\":1,\"Lv 50 HP\":1140,\"Lv50 SP\":65,\"Lv50 Atk\":103,\"Lv50 Def\":90,\"Lv50 Int\":80,\"Lv50 Spd\":79},{\"Number\":43,\"Digimon\":\"DemiDevimon\",\"Stage\":\"Rookie\",\"Type\":\"Virus\",\"Attribute\":\"Dark\",\"Memory\":4,\"Equip Slots\":1,\"Lv 50 HP\":650,\"Lv50 SP\":87,\"Lv50 Atk\":89,\"Lv50 Def\":76,\"Lv50 Int\":89,\"Lv50 Spd\":111},{\"Number\":44,\"Digimon\":\"Biyomon\",\"Stage\":\"Rookie\",\"Type\":\"Vaccine\",\"Attribute\":\"Wind\",\"Memory\":4,\"Equip Slots\":1,\"Lv 50 HP\":830,\"Lv50 SP\":93,\"Lv50 Atk\":85,\"Lv50 Def\":79,\"Lv50 Int\":85,\"Lv50 Spd\":91},{\"Number\":45,\"Digimon\":\"Falcomon\",\"Stage\":\"Rookie\",\"Type\":\"Vaccine\",\"Attribute\":\"Wind\",\"Memory\":5,\"Equip Slots\":1,\"Lv 50 HP\":740,\"Lv50 SP\":93,\"Lv50 Atk\":94,\"Lv50 Def\":79,\"Lv50 Int\":79,\"Lv50 Spd\":113},{\"Number\":46,\"Digimon\":\"Veemon\",\"Stage\":\"Rookie\",\"Type\":\"Free\",\"Attribute\":\"Neutral\",\"Memory\":5,\"Equip Slots\":1,\"Lv 50 HP\":1040,\"Lv50 SP\":74,\"Lv50 Atk\":130,\"Lv50 Def\":74,\"Lv50 Int\":53,\"Lv50 Spd\":101},{\"Number\":47,\"Digimon\":\"Salamon\",\"Stage\":\"Rookie\",\"Type\":\"Vaccine\",\"Attribute\":\"Light\",\"Memory\":4,\"Equip Slots\":1,\"Lv 50 HP\":540,\"Lv50 SP\":118,\"Lv50 Atk\":59,\"Lv50 Def\":69,\"Lv50 Int\":119,\"Lv50 Spd\":97},{\"Number\":48,\"Digimon\":\"Betamon\",\"Stage\":\"Rookie\",\"Type\":\"Virus\",\"Attribute\":\"Water\",\"Memory\":4,\"Equip Slots\":1,\"Lv 50 HP\":870,\"Lv50 SP\":101,\"Lv50 Atk\":61,\"Lv50 Def\":76,\"Lv50 Int\":113,\"Lv50 Spd\":78},{\"Number\":49,\"Digimon\":\"Hawkmon\",\"Stage\":\"Rookie\",\"Type\":\"Free\",\"Attribute\":\"Wind\",\"Memory\":5,\"Equip Slots\":1,\"Lv 50 HP\":690,\"Lv50 SP\":88,\"Lv50 Atk\":99,\"Lv50 Def\":79,\"Lv50 Int\":83,\"Lv50 Spd\":114},{\"Number\":50,\"Digimon\":\"Lalamon\",\"Stage\":\"Rookie\",\"Type\":\"Data\",\"Attribute\":\"Plant\",\"Memory\":4,\"Equip Slots\":1,\"Lv 50 HP\":1100,\"Lv50 SP\":74,\"Lv50 Atk\":87,\"Lv50 Def\":87,\"Lv50 Int\":79,\"Lv50 Spd\":79},{\"Number\":51,\"Digimon\":\"Lucemon\",\"Stage\":\"Rookie\",\"Type\":\"Vaccine\",\"Attribute\":\"Light\",\"Memory\":14,\"Equip Slots\":1,\"Lv 50 HP\":1230,\"Lv50 SP\":148,\"Lv50 Atk\":59,\"Lv50 Def\":104,\"Lv50 Int\":208,\"Lv50 Spd\":119},{\"Number\":52,\"Digimon\":\"Renamon\",\"Stage\":\"Rookie\",\"Type\":\"Data\",\"Attribute\":\"Plant\",\"Memory\":5,\"Equip Slots\":1,\"Lv 50 HP\":930,\"Lv50 SP\":93,\"Lv50 Atk\":89,\"Lv50 Def\":74,\"Lv50 Int\":89,\"Lv50 Spd\":93},{\"Number\":53,\"Digimon\":\"Lopmon\",\"Stage\":\"Rookie\",\"Type\":\"Data\",\"Attribute\":\"Earth\",\"Memory\":4,\"Equip Slots\":1,\"Lv 50 HP\":790,\"Lv50 SP\":79,\"Lv50 Atk\":103,\"Lv50 Def\":68,\"Lv50 Int\":103,\"Lv50 Spd\":85},{\"Number\":54,\"Digimon\":\"Wormmon\",\"Stage\":\"Rookie\",\"Type\":\"Free\",\"Attribute\":\"Plant\",\"Memory\":4,\"Equip Slots\":1,\"Lv 50 HP\":760,\"Lv50 SP\":76,\"Lv50 Atk\":92,\"Lv50 Def\":111,\"Lv50 Int\":90,\"Lv50 Spd\":71},{\"Number\":55,\"Digimon\":\"IceDevimon\",\"Stage\":\"Champion\",\"Type\":\"Virus\",\"Attribute\":\"Water\",\"Memory\":8,\"Equip Slots\":1,\"Lv 50 HP\":990,\"Lv50 SP\":94,\"Lv50 Atk\":140,\"Lv50 Def\":89,\"Lv50 Int\":118,\"Lv50 Spd\":92},{\"Number\":56,\"Digimon\":\"Aquilamon\",\"Stage\":\"Champion\",\"Type\":\"Free\",\"Attribute\":\"Wind\",\"Memory\":8,\"Equip Slots\":1,\"Lv 50 HP\":840,\"Lv50 SP\":108,\"Lv50 Atk\":109,\"Lv50 Def\":89,\"Lv50 Int\":89,\"Lv50 Spd\":143},{\"Number\":57,\"Digimon\":\"Ankylomon\",\"Stage\":\"Champion\",\"Type\":\"Free\",\"Attribute\":\"Earth\",\"Memory\":6,\"Equip Slots\":2,\"Lv 50 HP\":1330,\"Lv50 SP\":98,\"Lv50 Atk\":89,\"Lv50 Def\":133,\"Lv50 Int\":79,\"Lv50 Spd\":79},{\"Number\":58,\"Digimon\":\"Ikkakumon\",\"Stage\":\"Champion\",\"Type\":\"Vaccine\",\"Attribute\":\"Water\",\"Memory\":8,\"Equip Slots\":1,\"Lv 50 HP\":1330,\"Lv50 SP\":84,\"Lv50 Atk\":118,\"Lv50 Def\":102,\"Lv50 Int\":94,\"Lv50 Spd\":90},{\"Number\":59,\"Digimon\":\"Wizardmon\",\"Stage\":\"Champion\",\"Type\":\"Data\",\"Attribute\":\"Dark\",\"Memory\":8,\"Equip Slots\":1,\"Lv 50 HP\":690,\"Lv50 SP\":138,\"Lv50 Atk\":74,\"Lv50 Def\":79,\"Lv50 Int\":143,\"Lv50 Spd\":118},{\"Number\":60,\"Digimon\":\"Woodmon\",\"Stage\":\"Champion\",\"Type\":\"Virus\",\"Attribute\":\"Plant\",\"Memory\":6,\"Equip Slots\":2,\"Lv 50 HP\":1480,\"Lv50 SP\":74,\"Lv50 Atk\":109,\"Lv50 Def\":103,\"Lv50 Int\":89,\"Lv50 Spd\":88},{\"Number\":61,\"Digimon\":\"ExVeemon\",\"Stage\":\"Champion\",\"Type\":\"Free\",\"Attribute\":\"Neutral\",\"Memory\":8,\"Equip Slots\":1,\"Lv 50 HP\":1030,\"Lv50 SP\":118,\"Lv50 Atk\":104,\"Lv50 Def\":94,\"Lv50 Int\":94,\"Lv50 Spd\":118},{\"Number\":62,\"Digimon\":\"Angemon\",\"Stage\":\"Champion\",\"Type\":\"Vaccine\",\"Attribute\":\"Light\",\"Memory\":8,\"Equip Slots\":1,\"Lv 50 HP\":940,\"Lv50 SP\":94,\"Lv50 Atk\":128,\"Lv50 Def\":89,\"Lv50 Int\":128,\"Lv50 Spd\":99},{\"Number\":63,\"Digimon\":\"Ogremon\",\"Stage\":\"Champion\",\"Type\":\"Virus\",\"Attribute\":\"Earth\",\"Memory\":8,\"Equip Slots\":1,\"Lv 50 HP\":1230,\"Lv50 SP\":64,\"Lv50 Atk\":155,\"Lv50 Def\":118,\"Lv50 Int\":64,\"Lv50 Spd\":97},{\"Number\":64,\"Digimon\":\"Guardromon\",\"Stage\":\"Champion\",\"Type\":\"Virus\",\"Attribute\":\"Electric\",\"Memory\":6,\"Equip Slots\":2,\"Lv 50 HP\":990,\"Lv50 SP\":84,\"Lv50 Atk\":108,\"Lv50 Def\":138,\"Lv50 Int\":103,\"Lv50 Spd\":79},{\"Number\":65,\"Digimon\":\"GaoGamon\",\"Stage\":\"Champion\",\"Type\":\"Data\",\"Attribute\":\"Wind\",\"Memory\":8,\"Equip Slots\":1,\"Lv 50 HP\":740,\"Lv50 SP\":108,\"Lv50 Atk\":109,\"Lv50 Def\":94,\"Lv50 Int\":99,\"Lv50 Spd\":138},{\"Number\":66,\"Digimon\":\"Kabuterimon\",\"Stage\":\"Champion\",\"Type\":\"Vaccine\",\"Attribute\":\"Plant\",\"Memory\":6,\"Equip Slots\":2,\"Lv 50 HP\":890,\"Lv50 SP\":89,\"Lv50 Atk\":108,\"Lv50 Def\":128,\"Lv50 Int\":116,\"Lv50 Spd\":81},{\"Number\":67,\"Digimon\":\"ShellNumemon\",\"Stage\":\"Champion\",\"Type\":\"Virus\",\"Attribute\":\"Water\",\"Memory\":6,\"Equip Slots\":2,\"Lv 50 HP\":1280,\"Lv50 SP\":103,\"Lv50 Atk\":79,\"Lv50 Def\":148,\"Lv50 Int\":74,\"Lv50 Spd\":79},{\"Number\":68,\"Digimon\":\"Gargomon\",\"Stage\":\"Champion\",\"Type\":\"Vaccine\",\"Attribute\":\"Electric\",\"Memory\":6,\"Equip Slots\":2,\"Lv 50 HP\":1030,\"Lv50 SP\":103,\"Lv50 Atk\":109,\"Lv50 Def\":99,\"Lv50 Int\":89,\"Lv50 Spd\":108},{\"Number\":69,\"Digimon\":\"Garurumon\",\"Stage\":\"Champion\",\"Type\":\"Vaccine\",\"Attribute\":\"Fire\",\"Memory\":8,\"Equip Slots\":1,\"Lv 50 HP\":890,\"Lv50 SP\":108,\"Lv50 Atk\":99,\"Lv50 Def\":94,\"Lv50 Int\":94,\"Lv50 Spd\":138},{\"Number\":70,\"Digimon\":\"Garurumon (Blk)\",\"Stage\":\"Champion\",\"Type\":\"Virus\",\"Attribute\":\"Fire\",\"Memory\":8,\"Equip Slots\":1,\"Lv 50 HP\":890,\"Lv50 SP\":108,\"Lv50 Atk\":109,\"Lv50 Def\":104,\"Lv50 Int\":79,\"Lv50 Spd\":133},{\"Number\":71,\"Digimon\":\"Kyubimon\",\"Stage\":\"Champion\",\"Type\":\"Data\",\"Attribute\":\"Fire\",\"Memory\":8,\"Equip Slots\":1,\"Lv 50 HP\":740,\"Lv50 SP\":138,\"Lv50 Atk\":59,\"Lv50 Def\":84,\"Lv50 Int\":138,\"Lv50 Spd\":128},{\"Number\":72,\"Digimon\":\"Growlmon\",\"Stage\":\"Champion\",\"Type\":\"Virus\",\"Attribute\":\"Fire\",\"Memory\":8,\"Equip Slots\":1,\"Lv 50 HP\":1180,\"Lv50 SP\":79,\"Lv50 Atk\":143,\"Lv50 Def\":113,\"Lv50 Int\":69,\"Lv50 Spd\":109},{\"Number\":73,\"Digimon\":\"Kurisarimon\",\"Stage\":\"Champion\",\"Type\":\"Free\",\"Attribute\":\"Dark\",\"Memory\":8,\"Equip Slots\":1,\"Lv 50 HP\":1280,\"Lv50 SP\":84,\"Lv50 Atk\":153,\"Lv50 Def\":79,\"Lv50 Int\":64,\"Lv50 Spd\":113},{\"Number\":74,\"Digimon\":\"Greymon\",\"Stage\":\"Champion\",\"Type\":\"Vaccine\",\"Attribute\":\"Fire\",\"Memory\":8,\"Equip Slots\":1,\"Lv 50 HP\":1230,\"Lv50 SP\":74,\"Lv50 Atk\":148,\"Lv50 Def\":118,\"Lv50 Int\":64,\"Lv50 Spd\":104},{\"Number\":75,\"Digimon\":\"Greymon (Blue)\",\"Stage\":\"Champion\",\"Type\":\"Virus\",\"Attribute\":\"Fire\",\"Memory\":8,\"Equip Slots\":1,\"Lv 50 HP\":1280,\"Lv50 SP\":74,\"Lv50 Atk\":153,\"Lv50 Def\":118,\"Lv50 Int\":59,\"Lv50 Spd\":99},{\"Number\":76,\"Digimon\":\"Clockmon\",\"Stage\":\"Champion\",\"Type\":\"Data\",\"Attribute\":\"Electric\",\"Memory\":6,\"Equip Slots\":2,\"Lv 50 HP\":1030,\"Lv50 SP\":118,\"Lv50 Atk\":64,\"Lv50 Def\":101,\"Lv50 Int\":133,\"Lv50 Spd\":92},{\"Number\":77,\"Digimon\":\"Kuwagamon\",\"Stage\":\"Champion\",\"Type\":\"Virus\",\"Attribute\":\"Plant\",\"Memory\":6,\"Equip Slots\":2,\"Lv 50 HP\":1180,\"Lv50 SP\":69,\"Lv50 Atk\":153,\"Lv50 Def\":113,\"Lv50 Int\":59,\"Lv50 Spd\":99},{\"Number\":78,\"Digimon\":\"Gekomon\",\"Stage\":\"Champion\",\"Type\":\"Virus\",\"Attribute\":\"Water\",\"Memory\":6,\"Equip Slots\":2,\"Lv 50 HP\":1130,\"Lv50 SP\":123,\"Lv50 Atk\":68,\"Lv50 Def\":89,\"Lv50 Int\":128,\"Lv50 Spd\":90},{\"Number\":79,\"Digimon\":\"Geremon\",\"Stage\":\"Champion\",\"Type\":\"Virus\",\"Attribute\":\"Electric\",\"Memory\":6,\"Equip Slots\":2,\"Lv 50 HP\":1380,\"Lv50 SP\":99,\"Lv50 Atk\":104,\"Lv50 Def\":128,\"Lv50 Int\":64,\"Lv50 Spd\":78},{\"Number\":80,\"Digimon\":\"GoldNumemon\",\"Stage\":\"Champion\",\"Type\":\"Virus\",\"Attribute\":\"Light\",\"Memory\":6,\"Equip Slots\":2,\"Lv 50 HP\":1130,\"Lv50 SP\":124,\"Lv50 Atk\":59,\"Lv50 Def\":84,\"Lv50 Int\":143,\"Lv50 Spd\":88},{\"Number\":81,\"Digimon\":\"Cyclonemon\",\"Stage\":\"Champion\",\"Type\":\"Virus\",\"Attribute\":\"Earth\",\"Memory\":6,\"Equip Slots\":2,\"Lv 50 HP\":940,\"Lv50 SP\":84,\"Lv50 Atk\":131,\"Lv50 Def\":128,\"Lv50 Int\":93,\"Lv50 Spd\":81},{\"Number\":82,\"Digimon\":\"Sunflowmon\",\"Stage\":\"Champion\",\"Type\":\"Data\",\"Attribute\":\"Plant\",\"Memory\":6,\"Equip Slots\":2,\"Lv 50 HP\":1180,\"Lv50 SP\":113,\"Lv50 Atk\":64,\"Lv50 Def\":89,\"Lv50 Int\":141,\"Lv50 Spd\":86},{\"Number\":83,\"Digimon\":\"Seadramon\",\"Stage\":\"Champion\",\"Type\":\"Data\",\"Attribute\":\"Water\",\"Memory\":6,\"Equip Slots\":2,\"Lv 50 HP\":1080,\"Lv50 SP\":118,\"Lv50 Atk\":64,\"Lv50 Def\":99,\"Lv50 Int\":134,\"Lv50 Spd\":88},{\"Number\":84,\"Digimon\":\"GeoGreymon\",\"Stage\":\"Champion\",\"Type\":\"Vaccine\",\"Attribute\":\"Fire\",\"Memory\":8,\"Equip Slots\":1,\"Lv 50 HP\":1330,\"Lv50 SP\":89,\"Lv50 Atk\":143,\"Lv50 Def\":84,\"Lv50 Int\":64,\"Lv50 Spd\":118},{\"Number\":85,\"Digimon\":\"Sukamon\",\"Stage\":\"Champion\",\"Type\":\"Virus\",\"Attribute\":\"Earth\",\"Memory\":6,\"Equip Slots\":2,\"Lv 50 HP\":1430,\"Lv50 SP\":98,\"Lv50 Atk\":89,\"Lv50 Def\":133,\"Lv50 Int\":69,\"Lv50 Spd\":79},{\"Number\":86,\"Digimon\":\"Starmon\",\"Stage\":\"Champion\",\"Type\":\"Data\",\"Attribute\":\"Neutral\",\"Memory\":6,\"Equip Slots\":2,\"Lv 50 HP\":1080,\"Lv50 SP\":98,\"Lv50 Atk\":104,\"Lv50 Def\":109,\"Lv50 Int\":91,\"Lv50 Spd\":101},{\"Number\":87,\"Digimon\":\"Stingmon\",\"Stage\":\"Champion\",\"Type\":\"Free\",\"Attribute\":\"Plant\",\"Memory\":8,\"Equip Slots\":1,\"Lv 50 HP\":1130,\"Lv50 SP\":84,\"Lv50 Atk\":143,\"Lv50 Def\":74,\"Lv50 Int\":74,\"Lv50 Spd\":133},{\"Number\":88,\"Digimon\":\"Socerimon\",\"Stage\":\"Champion\",\"Type\":\"Vaccine\",\"Attribute\":\"Water\",\"Memory\":8,\"Equip Slots\":1,\"Lv 50 HP\":1030,\"Lv50 SP\":123,\"Lv50 Atk\":64,\"Lv50 Def\":93,\"Lv50 Int\":148,\"Lv50 Spd\":90},{\"Number\":89,\"Digimon\":\"Tankmon\",\"Stage\":\"Champion\",\"Type\":\"Data\",\"Attribute\":\"Electric\",\"Memory\":6,\"Equip Slots\":2,\"Lv 50 HP\":940,\"Lv50 SP\":84,\"Lv50 Atk\":113,\"Lv50 Def\":141,\"Lv50 Int\":98,\"Lv50 Spd\":81},{\"Number\":90,\"Digimon\":\"Tyrannomon\",\"Stage\":\"Champion\",\"Type\":\"Data\",\"Attribute\":\"Fire\",\"Memory\":6,\"Equip Slots\":2,\"Lv 50 HP\":1230,\"Lv50 SP\":59,\"Lv50 Atk\":148,\"Lv50 Def\":125,\"Lv50 Int\":59,\"Lv50 Spd\":97},{\"Number\":91,\"Digimon\":\"Gatomon\",\"Stage\":\"Champion\",\"Type\":\"Vaccine\",\"Attribute\":\"Light\",\"Memory\":8,\"Equip Slots\":1,\"Lv 50 HP\":640,\"Lv50 SP\":143,\"Lv50 Atk\":69,\"Lv50 Def\":79,\"Lv50 Int\":143,\"Lv50 Spd\":123},{\"Number\":92,\"Digimon\":\"Devimon\",\"Stage\":\"Champion\",\"Type\":\"Virus\",\"Attribute\":\"Dark\",\"Memory\":8,\"Equip Slots\":1,\"Lv 50 HP\":990,\"Lv50 SP\":94,\"Lv50 Atk\":133,\"Lv50 Def\":84,\"Lv50 Int\":125,\"Lv50 Spd\":97},{\"Number\":93,\"Digimon\":\"Togemon\",\"Stage\":\"Champion\",\"Type\":\"Data\",\"Attribute\":\"Plant\",\"Memory\":8,\"Equip Slots\":1,\"Lv 50 HP\":1330,\"Lv50 SP\":84,\"Lv50 Atk\":108,\"Lv50 Def\":113,\"Lv50 Int\":93,\"Lv50 Spd\":90},{\"Number\":94,\"Digimon\":\"Dorugamon\",\"Stage\":\"Champion\",\"Type\":\"Data\",\"Attribute\":\"Earth\",\"Memory\":8,\"Equip Slots\":1,\"Lv 50 HP\":1180,\"Lv50 SP\":84,\"Lv50 Atk\":138,\"Lv50 Def\":89,\"Lv50 Int\":69,\"Lv50 Spd\":123},{\"Number\":95,\"Digimon\":\"Nanimon\",\"Stage\":\"Champion\",\"Type\":\"Virus\",\"Attribute\":\"Earth\",\"Memory\":6,\"Equip Slots\":2,\"Lv 50 HP\":1070,\"Lv50 SP\":84,\"Lv50 Atk\":108,\"Lv50 Def\":133,\"Lv50 Int\":98,\"Lv50 Spd\":81},{\"Number\":96,\"Digimon\":\"Numemon\",\"Stage\":\"Champion\",\"Type\":\"Virus\",\"Attribute\":\"Earth\",\"Memory\":6,\"Equip Slots\":2,\"Lv 50 HP\":1380,\"Lv50 SP\":99,\"Lv50 Atk\":84,\"Lv50 Def\":138,\"Lv50 Int\":69,\"Lv50 Spd\":83},{\"Number\":97,\"Digimon\":\"Birdramon\",\"Stage\":\"Champion\",\"Type\":\"Vaccine\",\"Attribute\":\"Fire\",\"Memory\":8,\"Equip Slots\":1,\"Lv 50 HP\":940,\"Lv50 SP\":113,\"Lv50 Atk\":94,\"Lv50 Def\":84,\"Lv50 Int\":109,\"Lv50 Spd\":128},{\"Number\":98,\"Digimon\":\"Bakemon\",\"Stage\":\"Champion\",\"Type\":\"Virus\",\"Attribute\":\"Dark\",\"Memory\":6,\"Equip Slots\":2,\"Lv 50 HP\":590,\"Lv50 SP\":148,\"Lv50 Atk\":64,\"Lv50 Def\":74,\"Lv50 Int\":138,\"Lv50 Spd\":128},{\"Number\":99,\"Digimon\":\"Veedramon\",\"Stage\":\"Champion\",\"Type\":\"Vaccine\",\"Attribute\":\"Wind\",\"Memory\":8,\"Equip Slots\":1,\"Lv 50 HP\":1180,\"Lv50 SP\":84,\"Lv50 Atk\":138,\"Lv50 Def\":113,\"Lv50 Int\":64,\"Lv50 Spd\":114},{\"Number\":100,\"Digimon\":\"PlatinumSukamon\",\"Stage\":\"Champion\",\"Type\":\"Virus\",\"Attribute\":\"Neutral\",\"Memory\":6,\"Equip Slots\":2,\"Lv 50 HP\":1380,\"Lv50 SP\":98,\"Lv50 Atk\":79,\"Lv50 Def\":138,\"Lv50 Int\":79,\"Lv50 Spd\":79},{\"Number\":101,\"Digimon\":\"BlackGatomon\",\"Stage\":\"Champion\",\"Type\":\"Virus\",\"Attribute\":\"Dark\",\"Memory\":8,\"Equip Slots\":1,\"Lv 50 HP\":690,\"Lv50 SP\":133,\"Lv50 Atk\":84,\"Lv50 Def\":84,\"Lv50 Int\":133,\"Lv50 Spd\":118},{\"Number\":102,\"Digimon\":\"Vegiemon\",\"Stage\":\"Champion\",\"Type\":\"Virus\",\"Attribute\":\"Plant\",\"Memory\":6,\"Equip Slots\":2,\"Lv 50 HP\":1380,\"Lv50 SP\":79,\"Lv50 Atk\":113,\"Lv50 Def\":106,\"Lv50 Int\":87,\"Lv50 Spd\":88},{\"Number\":103,\"Digimon\":\"Peckmon\",\"Stage\":\"Champion\",\"Type\":\"Vaccine\",\"Attribute\":\"Wind\",\"Memory\":8,\"Equip Slots\":1,\"Lv 50 HP\":790,\"Lv50 SP\":113,\"Lv50 Atk\":104,\"Lv50 Def\":84,\"Lv50 Int\":94,\"Lv50 Spd\":148},{\"Number\":104,\"Digimon\":\"Meramon\",\"Stage\":\"Champion\",\"Type\":\"Data\",\"Attribute\":\"Fire\",\"Memory\":6,\"Equip Slots\":2,\"Lv 50 HP\":1130,\"Lv50 SP\":69,\"Lv50 Atk\":138,\"Lv50 Def\":113,\"Lv50 Int\":79,\"Lv50 Spd\":99},{\"Number\":105,\"Digimon\":\"Frigimon\",\"Stage\":\"Champion\",\"Type\":\"Vaccine\",\"Attribute\":\"Water\",\"Memory\":6,\"Equip Slots\":2,\"Lv 50 HP\":1380,\"Lv50 SP\":83,\"Lv50 Atk\":103,\"Lv50 Def\":98,\"Lv50 Int\":99,\"Lv50 Spd\":90},{\"Number\":106,\"Digimon\":\"Leomon\",\"Stage\":\"Champion\",\"Type\":\"Vaccine\",\"Attribute\":\"Earth\",\"Memory\":8,\"Equip Slots\":1,\"Lv 50 HP\":1180,\"Lv50 SP\":69,\"Lv50 Atk\":143,\"Lv50 Def\":123,\"Lv50 Int\":71,\"Lv50 Spd\":97},{\"Number\":107,\"Digimon\":\"Reppamon\",\"Stage\":\"Champion\",\"Type\":\"Vaccine\",\"Attribute\":\"Light\",\"Memory\":8,\"Equip Slots\":1,\"Lv 50 HP\":790,\"Lv50 SP\":118,\"Lv50 Atk\":94,\"Lv50 Def\":99,\"Lv50 Int\":99,\"Lv50 Spd\":143},{\"Number\":108,\"Digimon\":\"Waspmon\",\"Stage\":\"Champion\",\"Type\":\"Virus\",\"Attribute\":\"Electric\",\"Memory\":6,\"Equip Slots\":2,\"Lv 50 HP\":1180,\"Lv50 SP\":74,\"Lv50 Atk\":133,\"Lv50 Def\":99,\"Lv50 Int\":74,\"Lv50 Spd\":113},{\"Number\":109,\"Digimon\":\"MegaKabuterimon\",\"Stage\":\"Ultimate\",\"Type\":\"Vaccine\",\"Attribute\":\"Plant\",\"Memory\":12,\"Equip Slots\":2,\"Lv 50 HP\":1430,\"Lv50 SP\":115,\"Lv50 Atk\":94,\"Lv50 Def\":163,\"Lv50 Int\":109,\"Lv50 Spd\":92},{\"Number\":110,\"Digimon\":\"Antylamon\",\"Stage\":\"Ultimate\",\"Type\":\"Data\",\"Attribute\":\"Neutral\",\"Memory\":12,\"Equip Slots\":2,\"Lv 50 HP\":940,\"Lv50 SP\":123,\"Lv50 Atk\":124,\"Lv50 Def\":109,\"Lv50 Int\":114,\"Lv50 Spd\":168},{\"Number\":111,\"Digimon\":\"Andromon\",\"Stage\":\"Ultimate\",\"Type\":\"Vaccine\",\"Attribute\":\"Electric\",\"Memory\":12,\"Equip Slots\":2,\"Lv 50 HP\":1040,\"Lv50 SP\":94,\"Lv50 Atk\":133,\"Lv50 Def\":157,\"Lv50 Int\":133,\"Lv50 Spd\":95},{\"Number\":112,\"Digimon\":\"Meteormon\",\"Stage\":\"Ultimate\",\"Type\":\"Data\",\"Attribute\":\"Earth\",\"Memory\":12,\"Equip Slots\":2,\"Lv 50 HP\":1090,\"Lv50 SP\":104,\"Lv50 Atk\":123,\"Lv50 Def\":163,\"Lv50 Int\":128,\"Lv50 Spd\":89},{\"Number\":113,\"Digimon\":\"Infermon\",\"Stage\":\"Ultimate\",\"Type\":\"Free\",\"Attribute\":\"Dark\",\"Memory\":14,\"Equip Slots\":1,\"Lv 50 HP\":1330,\"Lv50 SP\":99,\"Lv50 Atk\":198,\"Lv50 Def\":89,\"Lv50 Int\":74,\"Lv50 Spd\":153},{\"Number\":114,\"Digimon\":\"Myotismon\",\"Stage\":\"Ultimate\",\"Type\":\"Virus\",\"Attribute\":\"Dark\",\"Memory\":14,\"Equip Slots\":1,\"Lv 50 HP\":1290,\"Lv50 SP\":113,\"Lv50 Atk\":148,\"Lv50 Def\":99,\"Lv50 Int\":148,\"Lv50 Spd\":110},{\"Number\":115,\"Digimon\":\"AeroVeedramon\",\"Stage\":\"Ultimate\",\"Type\":\"Vaccine\",\"Attribute\":\"Wind\",\"Memory\":14,\"Equip Slots\":1,\"Lv 50 HP\":1430,\"Lv50 SP\":94,\"Lv50 Atk\":163,\"Lv50 Def\":99,\"Lv50 Int\":94,\"Lv50 Spd\":153},{\"Number\":116,\"Digimon\":\"Etemon\",\"Stage\":\"Ultimate\",\"Type\":\"Virus\",\"Attribute\":\"Dark\",\"Memory\":12,\"Equip Slots\":2,\"Lv 50 HP\":1130,\"Lv50 SP\":133,\"Lv50 Atk\":104,\"Lv50 Def\":119,\"Lv50 Int\":129,\"Lv50 Spd\":133},{\"Number\":117,\"Digimon\":\"Angewomon\",\"Stage\":\"Ultimate\",\"Type\":\"Vaccine\",\"Attribute\":\"Light\",\"Memory\":14,\"Equip Slots\":1,\"Lv 50 HP\":890,\"Lv50 SP\":163,\"Lv50 Atk\":69,\"Lv50 Def\":94,\"Lv50 Int\":188,\"Lv50 Spd\":143},{\"Number\":118,\"Digimon\":\"Okuwamon\",\"Stage\":\"Ultimate\",\"Type\":\"Virus\",\"Attribute\":\"Plant\",\"Memory\":12,\"Equip Slots\":2,\"Lv 50 HP\":1330,\"Lv50 SP\":74,\"Lv50 Atk\":158,\"Lv50 Def\":158,\"Lv50 Int\":74,\"Lv50 Spd\":119},{\"Number\":119,\"Digimon\":\"Garudamon\",\"Stage\":\"Ultimate\",\"Type\":\"Vaccine\",\"Attribute\":\"Fire\",\"Memory\":12,\"Equip Slots\":2,\"Lv 50 HP\":1040,\"Lv50 SP\":123,\"Lv50 Atk\":124,\"Lv50 Def\":109,\"Lv50 Int\":129,\"Lv50 Spd\":143},{\"Number\":120,\"Digimon\":\"Gigadramon\",\"Stage\":\"Ultimate\",\"Type\":\"Virus\",\"Attribute\":\"Wind\",\"Memory\":12,\"Equip Slots\":2,\"Lv 50 HP\":1240,\"Lv50 SP\":94,\"Lv50 Atk\":137,\"Lv50 Def\":148,\"Lv50 Int\":113,\"Lv50 Spd\":100},{\"Number\":121,\"Digimon\":\"CannonBeemon\",\"Stage\":\"Ultimate\",\"Type\":\"Virus\",\"Attribute\":\"Electric\",\"Memory\":12,\"Equip Slots\":2,\"Lv 50 HP\":990,\"Lv50 SP\":123,\"Lv50 Atk\":129,\"Lv50 Def\":139,\"Lv50 Int\":99,\"Lv50 Spd\":143},{\"Number\":122,\"Digimon\":\"GrapLeomon\",\"Stage\":\"Ultimate\",\"Type\":\"Vaccine\",\"Attribute\":\"Electric\",\"Memory\":12,\"Equip Slots\":2,\"Lv 50 HP\":1580,\"Lv50 SP\":89,\"Lv50 Atk\":163,\"Lv50 Def\":99,\"Lv50 Int\":79,\"Lv50 Spd\":143},{\"Number\":123,\"Digimon\":\"Cyberdramon\",\"Stage\":\"Ultimate\",\"Type\":\"Vaccine\",\"Attribute\":\"Dark\",\"Memory\":14,\"Equip Slots\":1,\"Lv 50 HP\":1480,\"Lv50 SP\":81,\"Lv50 Atk\":173,\"Lv50 Def\":143,\"Lv50 Int\":79,\"Lv50 Spd\":122},{\"Number\":124,\"Digimon\":\"Shakkoumon\",\"Stage\":\"Ultimate\",\"Type\":\"Free\",\"Attribute\":\"Light\",\"Memory\":14,\"Equip Slots\":1,\"Lv 50 HP\":1530,\"Lv50 SP\":135,\"Lv50 Atk\":84,\"Lv50 Def\":158,\"Lv50 Int\":139,\"Lv50 Spd\":92},{\"Number\":125,\"Digimon\":\"Cherrymon\",\"Stage\":\"Ultimate\",\"Type\":\"Virus\",\"Attribute\":\"Plant\",\"Memory\":12,\"Equip Slots\":2,\"Lv 50 HP\":1630,\"Lv50 SP\":108,\"Lv50 Atk\":113,\"Lv50 Def\":133,\"Lv50 Int\":114,\"Lv50 Spd\":100},{\"Number\":126,\"Digimon\":\"Silphymon\",\"Stage\":\"Ultimate\",\"Type\":\"Free\",\"Attribute\":\"Wind\",\"Memory\":14,\"Equip Slots\":1,\"Lv 50 HP\":1040,\"Lv50 SP\":138,\"Lv50 Atk\":119,\"Lv50 Def\":119,\"Lv50 Int\":124,\"Lv50 Spd\":158},{\"Number\":127,\"Digimon\":\"SuperStarmon\",\"Stage\":\"Ultimate\",\"Type\":\"Data\",\"Attribute\":\"Light\",\"Memory\":12,\"Equip Slots\":2,\"Lv 50 HP\":1180,\"Lv50 SP\":128,\"Lv50 Atk\":122,\"Lv50 Def\":134,\"Lv50 Int\":109,\"Lv50 Spd\":120},{\"Number\":128,\"Digimon\":\"SkullGreymon\",\"Stage\":\"Ultimate\",\"Type\":\"Virus\",\"Attribute\":\"Dark\",\"Memory\":14,\"Equip Slots\":1,\"Lv 50 HP\":1230,\"Lv50 SP\":79,\"Lv50 Atk\":203,\"Lv50 Def\":153,\"Lv50 Int\":69,\"Lv50 Spd\":119},{\"Number\":129,\"Digimon\":\"Zudomon\",\"Stage\":\"Ultimate\",\"Type\":\"Vaccine\",\"Attribute\":\"Water\",\"Memory\":12,\"Equip Slots\":2,\"Lv 50 HP\":1630,\"Lv50 SP\":84,\"Lv50 Atk\":150,\"Lv50 Def\":128,\"Lv50 Int\":104,\"Lv50 Spd\":102},{\"Number\":130,\"Digimon\":\"Taomon\",\"Stage\":\"Ultimate\",\"Type\":\"Data\",\"Attribute\":\"Dark\",\"Memory\":12,\"Equip Slots\":2,\"Lv 50 HP\":990,\"Lv50 SP\":148,\"Lv50 Atk\":69,\"Lv50 Def\":104,\"Lv50 Int\":173,\"Lv50 Spd\":138},{\"Number\":131,\"Digimon\":\"Chirinmon\",\"Stage\":\"Ultimate\",\"Type\":\"Vaccine\",\"Attribute\":\"Light\",\"Memory\":14,\"Equip Slots\":1,\"Lv 50 HP\":940,\"Lv50 SP\":133,\"Lv50 Atk\":124,\"Lv50 Def\":119,\"Lv50 Int\":124,\"Lv50 Spd\":168},{\"Number\":132,\"Digimon\":\"Digitamamon\",\"Stage\":\"Ultimate\",\"Type\":\"Data\",\"Attribute\":\"Neutral\",\"Memory\":12,\"Equip Slots\":2,\"Lv 50 HP\":1380,\"Lv50 SP\":89,\"Lv50 Atk\":128,\"Lv50 Def\":148,\"Lv50 Int\":111,\"Lv50 Spd\":102},{\"Number\":133,\"Digimon\":\"SkullMeramon\",\"Stage\":\"Ultimate\",\"Type\":\"Data\",\"Attribute\":\"Fire\",\"Memory\":12,\"Equip Slots\":2,\"Lv 50 HP\":1530,\"Lv50 SP\":79,\"Lv50 Atk\":183,\"Lv50 Def\":133,\"Lv50 Int\":70,\"Lv50 Spd\":113},{\"Number\":134,\"Digimon\":\"ShogunGekomon\",\"Stage\":\"Ultimate\",\"Type\":\"Virus\",\"Attribute\":\"Water\",\"Memory\":12,\"Equip Slots\":2,\"Lv 50 HP\":1980,\"Lv50 SP\":96,\"Lv50 Atk\":113,\"Lv50 Def\":113,\"Lv50 Int\":99,\"Lv50 Spd\":97},{\"Number\":135,\"Digimon\":\"DoruGreymon\",\"Stage\":\"Ultimate\",\"Type\":\"Data\",\"Attribute\":\"Fire\",\"Memory\":14,\"Equip Slots\":1,\"Lv 50 HP\":1480,\"Lv50 SP\":84,\"Lv50 Atk\":161,\"Lv50 Def\":153,\"Lv50 Int\":84,\"Lv50 Spd\":116},{\"Number\":136,\"Digimon\":\"Knightmon\",\"Stage\":\"Ultimate\",\"Type\":\"Data\",\"Attribute\":\"Neutral\",\"Memory\":12,\"Equip Slots\":2,\"Lv 50 HP\":1140,\"Lv50 SP\":109,\"Lv50 Atk\":135,\"Lv50 Def\":158,\"Lv50 Int\":123,\"Lv50 Spd\":92},{\"Number\":137,\"Digimon\":\"Datamon\",\"Stage\":\"Ultimate\",\"Type\":\"Virus\",\"Attribute\":\"Electric\",\"Memory\":12,\"Equip Slots\":2,\"Lv 50 HP\":1180,\"Lv50 SP\":133,\"Lv50 Atk\":74,\"Lv50 Def\":114,\"Lv50 Int\":175,\"Lv50 Spd\":102},{\"Number\":138,\"Digimon\":\"Paildramon\",\"Stage\":\"Ultimate\",\"Type\":\"Free\",\"Attribute\":\"Neutral\",\"Memory\":14,\"Equip Slots\":1,\"Lv 50 HP\":1280,\"Lv50 SP\":133,\"Lv50 Atk\":139,\"Lv50 Def\":124,\"Lv50 Int\":109,\"Lv50 Spd\":128},{\"Number\":139,\"Digimon\":\"Panjyamon\",\"Stage\":\"Ultimate\",\"Type\":\"Vaccine\",\"Attribute\":\"Water\",\"Memory\":12,\"Equip Slots\":2,\"Lv 50 HP\":1280,\"Lv50 SP\":128,\"Lv50 Atk\":124,\"Lv50 Def\":114,\"Lv50 Int\":111,\"Lv50 Spd\":126},{\"Number\":140,\"Digimon\":\"Pumpkinmon\",\"Stage\":\"Ultimate\",\"Type\":\"Data\",\"Attribute\":\"Earth\",\"Memory\":10,\"Equip Slots\":3,\"Lv 50 HP\":1480,\"Lv50 SP\":97,\"Lv50 Atk\":123,\"Lv50 Def\":108,\"Lv50 Int\":119,\"Lv50 Spd\":111},{\"Number\":141,\"Digimon\":\"Piximon\",\"Stage\":\"Ultimate\",\"Type\":\"Data\",\"Attribute\":\"Light\",\"Memory\":12,\"Equip Slots\":2,\"Lv 50 HP\":990,\"Lv50 SP\":123,\"Lv50 Atk\":104,\"Lv50 Def\":104,\"Lv50 Int\":134,\"Lv50 Spd\":153},{\"Number\":142,\"Digimon\":\"BlackKingNumemon\",\"Stage\":\"Ultimate\",\"Type\":\"Virus\",\"Attribute\":\"Dark\",\"Memory\":10,\"Equip Slots\":3,\"Lv 50 HP\":1580,\"Lv50 SP\":113,\"Lv50 Atk\":89,\"Lv50 Def\":168,\"Lv50 Int\":89,\"Lv50 Spd\":89},{\"Number\":143,\"Digimon\":\"BlueMeramon\",\"Stage\":\"Ultimate\",\"Type\":\"Virus\",\"Attribute\":\"Fire\",\"Memory\":12,\"Equip Slots\":2,\"Lv 50 HP\":1140,\"Lv50 SP\":109,\"Lv50 Atk\":148,\"Lv50 Def\":94,\"Lv50 Int\":133,\"Lv50 Spd\":119},{\"Number\":144,\"Digimon\":\"Vademon\",\"Stage\":\"Ultimate\",\"Type\":\"Virus\",\"Attribute\":\"Dark\",\"Memory\":10,\"Equip Slots\":3,\"Lv 50 HP\":1130,\"Lv50 SP\":165,\"Lv50 Atk\":64,\"Lv50 Def\":94,\"Lv50 Int\":173,\"Lv50 Spd\":97},{\"Number\":145,\"Digimon\":\"Whamon\",\"Stage\":\"Ultimate\",\"Type\":\"Vaccine\",\"Attribute\":\"Water\",\"Memory\":12,\"Equip Slots\":2,\"Lv 50 HP\":1680,\"Lv50 SP\":93,\"Lv50 Atk\":123,\"Lv50 Def\":123,\"Lv50 Int\":124,\"Lv50 Spd\":100},{\"Number\":146,\"Digimon\":\"MagnaAngemon\",\"Stage\":\"Ultimate\",\"Type\":\"Vaccine\",\"Attribute\":\"Light\",\"Memory\":14,\"Equip Slots\":1,\"Lv 50 HP\":1180,\"Lv50 SP\":143,\"Lv50 Atk\":98,\"Lv50 Def\":119,\"Lv50 Int\":163,\"Lv50 Spd\":105},{\"Number\":147,\"Digimon\":\"MachGaogamon\",\"Stage\":\"Ultimate\",\"Type\":\"Data\",\"Attribute\":\"Wind\",\"Memory\":12,\"Equip Slots\":2,\"Lv 50 HP\":1480,\"Lv50 SP\":89,\"Lv50 Atk\":158,\"Lv50 Def\":89,\"Lv50 Int\":89,\"Lv50 Spd\":158},{\"Number\":148,\"Digimon\":\"Mamemon\",\"Stage\":\"Ultimate\",\"Type\":\"Data\",\"Attribute\":\"Earth\",\"Memory\":10,\"Equip Slots\":3,\"Lv 50 HP\":1480,\"Lv50 SP\":113,\"Lv50 Atk\":111,\"Lv50 Def\":153,\"Lv50 Int\":84,\"Lv50 Spd\":97},{\"Number\":149,\"Digimon\":\"MegaSeadramon\",\"Stage\":\"Ultimate\",\"Type\":\"Data\",\"Attribute\":\"Water\",\"Memory\":12,\"Equip Slots\":2,\"Lv 50 HP\":1330,\"Lv50 SP\":138,\"Lv50 Atk\":86,\"Lv50 Def\":114,\"Lv50 Int\":158,\"Lv50 Spd\":102},{\"Number\":150,\"Digimon\":\"Megadramon\",\"Stage\":\"Ultimate\",\"Type\":\"Virus\",\"Attribute\":\"Wind\",\"Memory\":12,\"Equip Slots\":2,\"Lv 50 HP\":1430,\"Lv50 SP\":79,\"Lv50 Atk\":158,\"Lv50 Def\":148,\"Lv50 Int\":69,\"Lv50 Spd\":119},{\"Number\":151,\"Digimon\":\"WarGrowlmon\",\"Stage\":\"Ultimate\",\"Type\":\"Virus\",\"Attribute\":\"Fire\",\"Memory\":14,\"Equip Slots\":1,\"Lv 50 HP\":1430,\"Lv50 SP\":84,\"Lv50 Atk\":178,\"Lv50 Def\":138,\"Lv50 Int\":87,\"Lv50 Spd\":116},{\"Number\":152,\"Digimon\":\"MetalGreymon\",\"Stage\":\"Ultimate\",\"Type\":\"Vaccine\",\"Attribute\":\"Fire\",\"Memory\":14,\"Equip Slots\":1,\"Lv 50 HP\":1530,\"Lv50 SP\":84,\"Lv50 Atk\":168,\"Lv50 Def\":148,\"Lv50 Int\":80,\"Lv50 Spd\":113},{\"Number\":153,\"Digimon\":\"MetalGreymon (Blue)\",\"Stage\":\"Ultimate\",\"Type\":\"Virus\",\"Attribute\":\"Fire\",\"Memory\":14,\"Equip Slots\":1,\"Lv 50 HP\":1670,\"Lv50 SP\":84,\"Lv50 Atk\":173,\"Lv50 Def\":143,\"Lv50 Int\":69,\"Lv50 Spd\":110},{\"Number\":154,\"Digimon\":\"MetalTyrannomon\",\"Stage\":\"Ultimate\",\"Type\":\"Virus\",\"Attribute\":\"Electric\",\"Memory\":12,\"Equip Slots\":2,\"Lv 50 HP\":1090,\"Lv50 SP\":104,\"Lv50 Atk\":130,\"Lv50 Def\":178,\"Lv50 Int\":118,\"Lv50 Spd\":92},{\"Number\":155,\"Digimon\":\"MetalMamemon\",\"Stage\":\"Ultimate\",\"Type\":\"Data\",\"Attribute\":\"Electric\",\"Memory\":10,\"Equip Slots\":3,\"Lv 50 HP\":1040,\"Lv50 SP\":99,\"Lv50 Atk\":123,\"Lv50 Def\":153,\"Lv50 Int\":128,\"Lv50 Spd\":103},{\"Number\":156,\"Digimon\":\"Monzaemon\",\"Stage\":\"Ultimate\",\"Type\":\"Vaccine\",\"Attribute\":\"Neutral\",\"Memory\":12,\"Equip Slots\":2,\"Lv 50 HP\":1580,\"Lv50 SP\":93,\"Lv50 Atk\":128,\"Lv50 Def\":118,\"Lv50 Int\":119,\"Lv50 Spd\":100},{\"Number\":157,\"Digimon\":\"Crowmon\",\"Stage\":\"Ultimate\",\"Type\":\"Vaccine\",\"Attribute\":\"Wind\",\"Memory\":12,\"Equip Slots\":2,\"Lv 50 HP\":890,\"Lv50 SP\":128,\"Lv50 Atk\":119,\"Lv50 Def\":104,\"Lv50 Int\":119,\"Lv50 Spd\":173},{\"Number\":158,\"Digimon\":\"RizeGreymon\",\"Stage\":\"Ultimate\",\"Type\":\"Vaccine\",\"Attribute\":\"Fire\",\"Memory\":14,\"Equip Slots\":1,\"Lv 50 HP\":1530,\"Lv50 SP\":94,\"Lv50 Atk\":178,\"Lv50 Def\":109,\"Lv50 Int\":69,\"Lv50 Spd\":143},{\"Number\":159,\"Digimon\":\"Lilamon\",\"Stage\":\"Ultimate\",\"Type\":\"Data\",\"Attribute\":\"Plant\",\"Memory\":12,\"Equip Slots\":2,\"Lv 50 HP\":1280,\"Lv50 SP\":148,\"Lv50 Atk\":69,\"Lv50 Def\":104,\"Lv50 Int\":168,\"Lv50 Spd\":114},{\"Number\":160,\"Digimon\":\"Rapidmon\",\"Stage\":\"Ultimate\",\"Type\":\"Vaccine\",\"Attribute\":\"Electric\",\"Memory\":12,\"Equip Slots\":2,\"Lv 50 HP\":1180,\"Lv50 SP\":113,\"Lv50 Atk\":114,\"Lv50 Def\":109,\"Lv50 Int\":119,\"Lv50 Spd\":143},{\"Number\":161,\"Digimon\":\"Lillymon\",\"Stage\":\"Ultimate\",\"Type\":\"Data\",\"Attribute\":\"Plant\",\"Memory\":12,\"Equip Slots\":2,\"Lv 50 HP\":890,\"Lv50 SP\":153,\"Lv50 Atk\":74,\"Lv50 Def\":94,\"Lv50 Int\":163,\"Lv50 Spd\":158},{\"Number\":162,\"Digimon\":\"Lucemon FM\",\"Stage\":\"Ultimate\",\"Type\":\"Virus\",\"Attribute\":\"Neutral\",\"Memory\":22,\"Equip Slots\":1,\"Lv 50 HP\":1390,\"Lv50 SP\":139,\"Lv50 Atk\":163,\"Lv50 Def\":114,\"Lv50 Int\":203,\"Lv50 Spd\":139},{\"Number\":163,\"Digimon\":\"LadyDevimon\",\"Stage\":\"Ultimate\",\"Type\":\"Virus\",\"Attribute\":\"Dark\",\"Memory\":14,\"Equip Slots\":1,\"Lv 50 HP\":890,\"Lv50 SP\":163,\"Lv50 Atk\":99,\"Lv50 Def\":94,\"Lv50 Int\":158,\"Lv50 Spd\":143},{\"Number\":164,\"Digimon\":\"WereGarurumon\",\"Stage\":\"Ultimate\",\"Type\":\"Vaccine\",\"Attribute\":\"Earth\",\"Memory\":12,\"Equip Slots\":2,\"Lv 50 HP\":1430,\"Lv50 SP\":89,\"Lv50 Atk\":178,\"Lv50 Def\":89,\"Lv50 Int\":79,\"Lv50 Spd\":153},{\"Number\":165,\"Digimon\":\"WereGarurumon (Blk)\",\"Stage\":\"Ultimate\",\"Type\":\"Virus\",\"Attribute\":\"Earth\",\"Memory\":12,\"Equip Slots\":2,\"Lv 50 HP\":1480,\"Lv50 SP\":79,\"Lv50 Atk\":183,\"Lv50 Def\":104,\"Lv50 Int\":69,\"Lv50 Spd\":148},{\"Number\":166,\"Digimon\":\"Wisemon\",\"Stage\":\"Ultimate\",\"Type\":\"Virus\",\"Attribute\":\"Dark\",\"Memory\":12,\"Equip Slots\":2,\"Lv 50 HP\":790,\"Lv50 SP\":168,\"Lv50 Atk\":69,\"Lv50 Def\":84,\"Lv50 Int\":198,\"Lv50 Spd\":133},{\"Number\":167,\"Digimon\":\"Alphamon\",\"Stage\":\"Mega\",\"Type\":\"Vaccine\",\"Attribute\":\"Neutral\",\"Memory\":22,\"Equip Slots\":1,\"Lv 50 HP\":1390,\"Lv50 SP\":128,\"Lv50 Atk\":158,\"Lv50 Def\":183,\"Lv50 Int\":158,\"Lv50 Spd\":130},{\"Number\":168,\"Digimon\":\"UlforceVeedramon\",\"Stage\":\"Mega\",\"Type\":\"Vaccine\",\"Attribute\":\"Wind\",\"Memory\":22,\"Equip Slots\":1,\"Lv 50 HP\":1680,\"Lv50 SP\":129,\"Lv50 Atk\":188,\"Lv50 Def\":109,\"Lv50 Int\":104,\"Lv50 Spd\":198},{\"Number\":169,\"Digimon\":\"Ebemon\",\"Stage\":\"Mega\",\"Type\":\"Virus\",\"Attribute\":\"Electric\",\"Memory\":16,\"Equip Slots\":3,\"Lv 50 HP\":1230,\"Lv50 SP\":178,\"Lv50 Atk\":74,\"Lv50 Def\":114,\"Lv50 Int\":198,\"Lv50 Spd\":129},{\"Number\":170,\"Digimon\":\"Imperialdramon DM\",\"Stage\":\"Mega\",\"Type\":\"Free\",\"Attribute\":\"Fire\",\"Memory\":20,\"Equip Slots\":2,\"Lv 50 HP\":1730,\"Lv50 SP\":143,\"Lv50 Atk\":139,\"Lv50 Def\":139,\"Lv50 Int\":139,\"Lv50 Spd\":148},{\"Number\":171,\"Digimon\":\"Imperialdramon FM\",\"Stage\":\"Mega\",\"Type\":\"Free\",\"Attribute\":\"Neutral\",\"Memory\":20,\"Equip Slots\":2,\"Lv 50 HP\":1780,\"Lv50 SP\":114,\"Lv50 Atk\":198,\"Lv50 Def\":124,\"Lv50 Int\":114,\"Lv50 Spd\":153},{\"Number\":172,\"Digimon\":\"Vikemon\",\"Stage\":\"Mega\",\"Type\":\"Free\",\"Attribute\":\"Water\",\"Memory\":18,\"Equip Slots\":3,\"Lv 50 HP\":1780,\"Lv50 SP\":105,\"Lv50 Atk\":158,\"Lv50 Def\":143,\"Lv50 Int\":129,\"Lv50 Spd\":133},{\"Number\":173,\"Digimon\":\"VenomMyotismon\",\"Stage\":\"Mega\",\"Type\":\"Virus\",\"Attribute\":\"Dark\",\"Memory\":20,\"Equip Slots\":2,\"Lv 50 HP\":1540,\"Lv50 SP\":120,\"Lv50 Atk\":193,\"Lv50 Def\":104,\"Lv50 Int\":148,\"Lv50 Spd\":138},{\"Number\":174,\"Digimon\":\"WarGreymon\",\"Stage\":\"Mega\",\"Type\":\"Vaccine\",\"Attribute\":\"Fire\",\"Memory\":20,\"Equip Slots\":2,\"Lv 50 HP\":1630,\"Lv50 SP\":98,\"Lv50 Atk\":193,\"Lv50 Def\":163,\"Lv50 Int\":99,\"Lv50 Spd\":140},{\"Number\":175,\"Digimon\":\"Examon\",\"Stage\":\"Mega\",\"Type\":\"Data\",\"Attribute\":\"Wind\",\"Memory\":22,\"Equip Slots\":1,\"Lv 50 HP\":1630,\"Lv50 SP\":148,\"Lv50 Atk\":174,\"Lv50 Def\":129,\"Lv50 Int\":129,\"Lv50 Spd\":153},{\"Number\":176,\"Digimon\":\"Ophanimon\",\"Stage\":\"Mega\",\"Type\":\"Vaccine\",\"Attribute\":\"Light\",\"Memory\":20,\"Equip Slots\":2,\"Lv 50 HP\":840,\"Lv50 SP\":183,\"Lv50 Atk\":104,\"Lv50 Def\":164,\"Lv50 Int\":193,\"Lv50 Spd\":153},{\"Number\":177,\"Digimon\":\"Gaiomon\",\"Stage\":\"Mega\",\"Type\":\"Virus\",\"Attribute\":\"Fire\",\"Memory\":18,\"Equip Slots\":3,\"Lv 50 HP\":1630,\"Lv50 SP\":99,\"Lv50 Atk\":203,\"Lv50 Def\":129,\"Lv50 Int\":94,\"Lv50 Spd\":158},{\"Number\":178,\"Digimon\":\"ChaosGallantmon\",\"Stage\":\"Mega\",\"Type\":\"Virus\",\"Attribute\":\"Dark\",\"Memory\":22,\"Equip Slots\":1,\"Lv 50 HP\":1340,\"Lv50 SP\":139,\"Lv50 Atk\":178,\"Lv50 Def\":139,\"Lv50 Int\":163,\"Lv50 Spd\":144},{\"Number\":179,\"Digimon\":\"Gankoomon\",\"Stage\":\"Mega\",\"Type\":\"Data\",\"Attribute\":\"Fire\",\"Memory\":22,\"Equip Slots\":1,\"Lv 50 HP\":2080,\"Lv50 SP\":90,\"Lv50 Atk\":188,\"Lv50 Def\":163,\"Lv50 Int\":109,\"Lv50 Spd\":138},{\"Number\":180,\"Digimon\":\"Kuzuhamon\",\"Stage\":\"Mega\",\"Type\":\"Data\",\"Attribute\":\"Dark\",\"Memory\":18,\"Equip Slots\":3,\"Lv 50 HP\":1380,\"Lv50 SP\":163,\"Lv50 Atk\":84,\"Lv50 Def\":129,\"Lv50 Int\":193,\"Lv50 Spd\":139},{\"Number\":181,\"Digimon\":\"GranKuwagamon\",\"Stage\":\"Mega\",\"Type\":\"Virus\",\"Attribute\":\"Plant\",\"Memory\":18,\"Equip Slots\":3,\"Lv 50 HP\":1530,\"Lv50 SP\":88,\"Lv50 Atk\":178,\"Lv50 Def\":178,\"Lv50 Int\":89,\"Lv50 Spd\":140},{\"Number\":182,\"Digimon\":\"GroundLocomon\",\"Stage\":\"Mega\",\"Type\":\"Data\",\"Attribute\":\"Electric\",\"Memory\":18,\"Equip Slots\":3,\"Lv 50 HP\":1140,\"Lv50 SP\":114,\"Lv50 Atk\":144,\"Lv50 Def\":213,\"Lv50 Int\":133,\"Lv50 Spd\":128},{\"Number\":183,\"Digimon\":\"Craniamon\",\"Stage\":\"Mega\",\"Type\":\"Vaccine\",\"Attribute\":\"Earth\",\"Memory\":22,\"Equip Slots\":1,\"Lv 50 HP\":1630,\"Lv50 SP\":143,\"Lv50 Atk\":124,\"Lv50 Def\":208,\"Lv50 Int\":134,\"Lv50 Spd\":124},{\"Number\":184,\"Digimon\":\"Kerpymon (Good)\",\"Stage\":\"Mega\",\"Type\":\"Vaccine\",\"Attribute\":\"Light\",\"Memory\":20,\"Equip Slots\":1,\"Lv 50 HP\":1290,\"Lv50 SP\":188,\"Lv50 Atk\":94,\"Lv50 Def\":104,\"Lv50 Int\":208,\"Lv50 Spd\":158},{\"Number\":185,\"Digimon\":\"SaberLeomon\",\"Stage\":\"Mega\",\"Type\":\"Data\",\"Attribute\":\"Wind\",\"Memory\":18,\"Equip Slots\":3,\"Lv 50 HP\":1680,\"Lv50 SP\":99,\"Lv50 Atk\":228,\"Lv50 Def\":104,\"Lv50 Int\":84,\"Lv50 Spd\":163},{\"Number\":186,\"Digimon\":\"Sakuyamon\",\"Stage\":\"Mega\",\"Type\":\"Data\",\"Attribute\":\"Light\",\"Memory\":18,\"Equip Slots\":3,\"Lv 50 HP\":990,\"Lv50 SP\":178,\"Lv50 Atk\":94,\"Lv50 Def\":114,\"Lv50 Int\":188,\"Lv50 Spd\":173},{\"Number\":187,\"Digimon\":\"Jesmon\",\"Stage\":\"Mega\",\"Type\":\"Data\",\"Attribute\":\"Neutral\",\"Memory\":22,\"Equip Slots\":1,\"Lv 50 HP\":1480,\"Lv50 SP\":119,\"Lv50 Atk\":198,\"Lv50 Def\":149,\"Lv50 Int\":114,\"Lv50 Spd\":168},{\"Number\":188,\"Digimon\":\"ShineGreymon\",\"Stage\":\"Mega\",\"Type\":\"Vaccine\",\"Attribute\":\"Light\",\"Memory\":20,\"Equip Slots\":2,\"Lv 50 HP\":1880,\"Lv50 SP\":114,\"Lv50 Atk\":203,\"Lv50 Def\":109,\"Lv50 Int\":84,\"Lv50 Spd\":158},{\"Number\":189,\"Digimon\":\"Justimon\",\"Stage\":\"Mega\",\"Type\":\"Vaccine\",\"Attribute\":\"Light\",\"Memory\":18,\"Equip Slots\":3,\"Lv 50 HP\":1530,\"Lv50 SP\":99,\"Lv50 Atk\":193,\"Lv50 Def\":158,\"Lv50 Int\":99,\"Lv50 Spd\":144},{\"Number\":190,\"Digimon\":\"Kentaurosmon\",\"Stage\":\"Mega\",\"Type\":\"Vaccine\",\"Attribute\":\"Light\",\"Memory\":22,\"Equip Slots\":1,\"Lv 50 HP\":1140,\"Lv50 SP\":153,\"Lv50 Atk\":139,\"Lv50 Def\":154,\"Lv50 Int\":154,\"Lv50 Spd\":183},{\"Number\":191,\"Digimon\":\"Seraphimon\",\"Stage\":\"Mega\",\"Type\":\"Vaccine\",\"Attribute\":\"Light\",\"Memory\":20,\"Equip Slots\":2,\"Lv 50 HP\":1480,\"Lv50 SP\":162,\"Lv50 Atk\":94,\"Lv50 Def\":144,\"Lv50 Int\":198,\"Lv50 Spd\":135},{\"Number\":192,\"Digimon\":\"MegaGargomon\",\"Stage\":\"Mega\",\"Type\":\"Vaccine\",\"Attribute\":\"Electric\",\"Memory\":18,\"Equip Slots\":3,\"Lv 50 HP\":1430,\"Lv50 SP\":132,\"Lv50 Atk\":149,\"Lv50 Def\":139,\"Lv50 Int\":119,\"Lv50 Spd\":144},{\"Number\":193,\"Digimon\":\"TigerVespamon\",\"Stage\":\"Mega\",\"Type\":\"Virus\",\"Attribute\":\"Electric\",\"Memory\":18,\"Equip Slots\":3,\"Lv 50 HP\":1630,\"Lv50 SP\":104,\"Lv50 Atk\":193,\"Lv50 Def\":114,\"Lv50 Int\":99,\"Lv50 Spd\":173},{\"Number\":194,\"Digimon\":\"Titamon\",\"Stage\":\"Mega\",\"Type\":\"Virus\",\"Attribute\":\"Earth\",\"Memory\":18,\"Equip Slots\":3,\"Lv 50 HP\":1930,\"Lv50 SP\":99,\"Lv50 Atk\":183,\"Lv50 Def\":128,\"Lv50 Int\":114,\"Lv50 Spd\":129},{\"Number\":195,\"Digimon\":\"Dianamon\",\"Stage\":\"Mega\",\"Type\":\"Data\",\"Attribute\":\"Water\",\"Memory\":20,\"Equip Slots\":1,\"Lv 50 HP\":790,\"Lv50 SP\":178,\"Lv50 Atk\":89,\"Lv50 Def\":154,\"Lv50 Int\":198,\"Lv50 Spd\":183},{\"Number\":196,\"Digimon\":\"Diaboromon\",\"Stage\":\"Mega\",\"Type\":\"Free\",\"Attribute\":\"Dark\",\"Memory\":20,\"Equip Slots\":2,\"Lv 50 HP\":1680,\"Lv50 SP\":114,\"Lv50 Atk\":243,\"Lv50 Def\":104,\"Lv50 Int\":79,\"Lv50 Spd\":173},{\"Number\":197,\"Digimon\":\"Creepymon\",\"Stage\":\"Mega\",\"Type\":\"Virus\",\"Attribute\":\"Dark\",\"Memory\":22,\"Equip Slots\":1,\"Lv 50 HP\":1440,\"Lv50 SP\":133,\"Lv50 Atk\":183,\"Lv50 Def\":114,\"Lv50 Int\":183,\"Lv50 Spd\":140},{\"Number\":198,\"Digimon\":\"Gallantmon\",\"Stage\":\"Mega\",\"Type\":\"Virus\",\"Attribute\":\"Light\",\"Memory\":22,\"Equip Slots\":1,\"Lv 50 HP\":1480,\"Lv50 SP\":148,\"Lv50 Atk\":149,\"Lv50 Def\":154,\"Lv50 Int\":149,\"Lv50 Spd\":148},{\"Number\":199,\"Digimon\":\"Dynasmon\",\"Stage\":\"Mega\",\"Type\":\"Data\",\"Attribute\":\"Wind\",\"Memory\":22,\"Equip Slots\":1,\"Lv 50 HP\":1680,\"Lv50 SP\":114,\"Lv50 Atk\":213,\"Lv50 Def\":129,\"Lv50 Int\":94,\"Lv50 Spd\":178},{\"Number\":200,\"Digimon\":\"Leopardmon\",\"Stage\":\"Mega\",\"Type\":\"Data\",\"Attribute\":\"Light\",\"Memory\":22,\"Equip Slots\":1,\"Lv 50 HP\":990,\"Lv50 SP\":188,\"Lv50 Atk\":124,\"Lv50 Def\":114,\"Lv50 Int\":183,\"Lv50 Spd\":188},{\"Number\":201,\"Digimon\":\"Leopardmon LM\",\"Stage\":\"Mega\",\"Type\":\"Data\",\"Attribute\":\"Earth\",\"Memory\":25,\"Equip Slots\":1,\"Lv 50 HP\":1290,\"Lv50 SP\":153,\"Lv50 Atk\":159,\"Lv50 Def\":129,\"Lv50 Int\":139,\"Lv50 Spd\":218},{\"Number\":202,\"Digimon\":\"HiAndromon\",\"Stage\":\"Mega\",\"Type\":\"Vaccine\",\"Attribute\":\"Electric\",\"Memory\":18,\"Equip Slots\":3,\"Lv 50 HP\":1190,\"Lv50 SP\":114,\"Lv50 Atk\":153,\"Lv50 Def\":178,\"Lv50 Int\":138,\"Lv50 Spd\":124},{\"Number\":203,\"Digimon\":\"Barbamon\",\"Stage\":\"Mega\",\"Type\":\"Virus\",\"Attribute\":\"Dark\",\"Memory\":22,\"Equip Slots\":1,\"Lv 50 HP\":1330,\"Lv50 SP\":184,\"Lv50 Atk\":84,\"Lv50 Def\":129,\"Lv50 Int\":233,\"Lv50 Spd\":133},{\"Number\":204,\"Digimon\":\"BanchoLeomon\",\"Stage\":\"Mega\",\"Type\":\"Vaccine\",\"Attribute\":\"Earth\",\"Memory\":18,\"Equip Slots\":3,\"Lv 50 HP\":1630,\"Lv50 SP\":84,\"Lv50 Atk\":193,\"Lv50 Def\":188,\"Lv50 Int\":80,\"Lv50 Spd\":138},{\"Number\":205,\"Digimon\":\"Piedmon\",\"Stage\":\"Mega\",\"Type\":\"Virus\",\"Attribute\":\"Dark\",\"Memory\":18,\"Equip Slots\":3,\"Lv 50 HP\":890,\"Lv50 SP\":178,\"Lv50 Atk\":129,\"Lv50 Def\":104,\"Lv50 Int\":183,\"Lv50 Spd\":163},{\"Number\":206,\"Digimon\":\"Puppetmon\",\"Stage\":\"Mega\",\"Type\":\"Virus\",\"Attribute\":\"Plant\",\"Memory\":18,\"Equip Slots\":3,\"Lv 50 HP\":1140,\"Lv50 SP\":114,\"Lv50 Atk\":163,\"Lv50 Def\":163,\"Lv50 Int\":148,\"Lv50 Spd\":124},{\"Number\":207,\"Digimon\":\"PlatinumNumemon\",\"Stage\":\"Mega\",\"Type\":\"Virus\",\"Attribute\":\"Neutral\",\"Memory\":16,\"Equip Slots\":3,\"Lv 50 HP\":1830,\"Lv50 SP\":132,\"Lv50 Atk\":94,\"Lv50 Def\":178,\"Lv50 Int\":109,\"Lv50 Spd\":120},{\"Number\":208,\"Digimon\":\"BlackWarGreymon\",\"Stage\":\"Mega\",\"Type\":\"Virus\",\"Attribute\":\"Fire\",\"Memory\":20,\"Equip Slots\":2,\"Lv 50 HP\":1730,\"Lv50 SP\":93,\"Lv50 Atk\":183,\"Lv50 Def\":178,\"Lv50 Int\":89,\"Lv50 Spd\":140},{\"Number\":209,\"Digimon\":\"PrinceMamemon\",\"Stage\":\"Mega\",\"Type\":\"Data\",\"Attribute\":\"Neutral\",\"Memory\":16,\"Equip Slots\":3,\"Lv 50 HP\":1630,\"Lv50 SP\":137,\"Lv50 Atk\":104,\"Lv50 Def\":173,\"Lv50 Int\":109,\"Lv50 Spd\":130},{\"Number\":210,\"Digimon\":\"Plesiomon\",\"Stage\":\"Mega\",\"Type\":\"Data\",\"Attribute\":\"Water\",\"Memory\":18,\"Equip Slots\":3,\"Lv 50 HP\":1680,\"Lv50 SP\":153,\"Lv50 Atk\":74,\"Lv50 Def\":114,\"Lv50 Int\":188,\"Lv50 Spd\":129},{\"Number\":211,\"Digimon\":\"HerculesKabuterimon\",\"Stage\":\"Mega\",\"Type\":\"Vaccine\",\"Attribute\":\"Plant\",\"Memory\":18,\"Equip Slots\":3,\"Lv 50 HP\":1680,\"Lv50 SP\":128,\"Lv50 Atk\":114,\"Lv50 Def\":168,\"Lv50 Int\":124,\"Lv50 Spd\":124},{\"Number\":212,\"Digimon\":\"Beelzemon\",\"Stage\":\"Mega\",\"Type\":\"Virus\",\"Attribute\":\"Dark\",\"Memory\":22,\"Equip Slots\":1,\"Lv 50 HP\":1680,\"Lv50 SP\":114,\"Lv50 Atk\":228,\"Lv50 Def\":119,\"Lv50 Int\":99,\"Lv50 Spd\":168},{\"Number\":213,\"Digimon\":\"Belphemon SM\",\"Stage\":\"Mega\",\"Type\":\"Virus\",\"Attribute\":\"Dark\",\"Memory\":22,\"Equip Slots\":1,\"Lv 50 HP\":1730,\"Lv50 SP\":178,\"Lv50 Atk\":89,\"Lv50 Def\":114,\"Lv50 Int\":203,\"Lv50 Spd\":139},{\"Number\":214,\"Digimon\":\"Hououmon\",\"Stage\":\"Mega\",\"Type\":\"Vaccine\",\"Attribute\":\"Fire\",\"Memory\":18,\"Equip Slots\":3,\"Lv 50 HP\":1390,\"Lv50 SP\":173,\"Lv50 Atk\":84,\"Lv50 Def\":99,\"Lv50 Int\":193,\"Lv50 Spd\":158},{\"Number\":215,\"Digimon\":\"Magnadramon\",\"Stage\":\"Mega\",\"Type\":\"Vaccine\",\"Attribute\":\"Light\",\"Memory\":20,\"Equip Slots\":2,\"Lv 50 HP\":1880,\"Lv50 SP\":168,\"Lv50 Atk\":89,\"Lv50 Def\":124,\"Lv50 Int\":183,\"Lv50 Spd\":129},{\"Number\":216,\"Digimon\":\"Boltmon\",\"Stage\":\"Mega\",\"Type\":\"Data\",\"Attribute\":\"Electric\",\"Memory\":18,\"Equip Slots\":3,\"Lv 50 HP\":1580,\"Lv50 SP\":83,\"Lv50 Atk\":198,\"Lv50 Def\":163,\"Lv50 Int\":84,\"Lv50 Spd\":140},{\"Number\":217,\"Digimon\":\"Mastemon\",\"Stage\":\"Mega\",\"Type\":\"Vaccine\",\"Attribute\":\"Neutral\",\"Memory\":22,\"Equip Slots\":1,\"Lv 50 HP\":1340,\"Lv50 SP\":144,\"Lv50 Atk\":173,\"Lv50 Def\":134,\"Lv50 Int\":173,\"Lv50 Spd\":149},{\"Number\":218,\"Digimon\":\"MarineAngemon\",\"Stage\":\"Mega\",\"Type\":\"Vaccine\",\"Attribute\":\"Water\",\"Memory\":18,\"Equip Slots\":3,\"Lv 50 HP\":1190,\"Lv50 SP\":198,\"Lv50 Atk\":64,\"Lv50 Def\":89,\"Lv50 Int\":203,\"Lv50 Spd\":153},{\"Number\":219,\"Digimon\":\"Minervamon\",\"Stage\":\"Mega\",\"Type\":\"Virus\",\"Attribute\":\"Neutral\",\"Memory\":20,\"Equip Slots\":1,\"Lv 50 HP\":1580,\"Lv50 SP\":114,\"Lv50 Atk\":208,\"Lv50 Def\":114,\"Lv50 Int\":119,\"Lv50 Spd\":168},{\"Number\":220,\"Digimon\":\"MirageGaogamon\",\"Stage\":\"Mega\",\"Type\":\"Data\",\"Attribute\":\"Wind\",\"Memory\":18,\"Equip Slots\":3,\"Lv 50 HP\":1480,\"Lv50 SP\":114,\"Lv50 Atk\":183,\"Lv50 Def\":114,\"Lv50 Int\":109,\"Lv50 Spd\":178},{\"Number\":221,\"Digimon\":\"Machinedramon\",\"Stage\":\"Mega\",\"Type\":\"Virus\",\"Attribute\":\"Electric\",\"Memory\":18,\"Equip Slots\":3,\"Lv 50 HP\":1240,\"Lv50 SP\":114,\"Lv50 Atk\":173,\"Lv50 Def\":183,\"Lv50 Int\":128,\"Lv50 Spd\":124},{\"Number\":222,\"Digimon\":\"MetalEtemon\",\"Stage\":\"Mega\",\"Type\":\"Virus\",\"Attribute\":\"Earth\",\"Memory\":18,\"Equip Slots\":3,\"Lv 50 HP\":1630,\"Lv50 SP\":128,\"Lv50 Atk\":134,\"Lv50 Def\":188,\"Lv50 Int\":89,\"Lv50 Spd\":124},{\"Number\":223,\"Digimon\":\"MetalGarurumon\",\"Stage\":\"Mega\",\"Type\":\"Data\",\"Attribute\":\"Water\",\"Memory\":18,\"Equip Slots\":3,\"Lv 50 HP\":1140,\"Lv50 SP\":143,\"Lv50 Atk\":154,\"Lv50 Def\":129,\"Lv50 Int\":129,\"Lv50 Spd\":178},{\"Number\":224,\"Digimon\":\"MetalGarurumon (Blk)\",\"Stage\":\"Mega\",\"Type\":\"Virus\",\"Attribute\":\"Electric\",\"Memory\":18,\"Equip Slots\":3,\"Lv 50 HP\":1190,\"Lv50 SP\":128,\"Lv50 Atk\":163,\"Lv50 Def\":173,\"Lv50 Int\":133,\"Lv50 Spd\":130},{\"Number\":225,\"Digimon\":\"MetalSeadramon\",\"Stage\":\"Mega\",\"Type\":\"Data\",\"Attribute\":\"Water\",\"Memory\":18,\"Equip Slots\":3,\"Lv 50 HP\":1430,\"Lv50 SP\":148,\"Lv50 Atk\":99,\"Lv50 Def\":139,\"Lv50 Int\":168,\"Lv50 Spd\":129},{\"Number\":226,\"Digimon\":\"RustTyranomon\",\"Stage\":\"Mega\",\"Type\":\"Virus\",\"Attribute\":\"Electric\",\"Memory\":18,\"Equip Slots\":3,\"Lv 50 HP\":1680,\"Lv50 SP\":83,\"Lv50 Atk\":218,\"Lv50 Def\":163,\"Lv50 Int\":74,\"Lv50 Spd\":140},{\"Number\":227,\"Digimon\":\"Leviamon\",\"Stage\":\"Mega\",\"Type\":\"Virus\",\"Attribute\":\"Water\",\"Memory\":22,\"Equip Slots\":1,\"Lv 50 HP\":1730,\"Lv50 SP\":120,\"Lv50 Atk\":168,\"Lv50 Def\":158,\"Lv50 Int\":144,\"Lv50 Spd\":133},{\"Number\":228,\"Digimon\":\"Lilithmon\",\"Stage\":\"Mega\",\"Type\":\"Virus\",\"Attribute\":\"Dark\",\"Memory\":22,\"Equip Slots\":1,\"Lv 50 HP\":940,\"Lv50 SP\":203,\"Lv50 Atk\":99,\"Lv50 Def\":104,\"Lv50 Int\":223,\"Lv50 Spd\":173},{\"Number\":229,\"Digimon\":\"Ravemon\",\"Stage\":\"Mega\",\"Type\":\"Vaccine\",\"Attribute\":\"Wind\",\"Memory\":18,\"Equip Slots\":3,\"Lv 50 HP\":1040,\"Lv50 SP\":143,\"Lv50 Atk\":139,\"Lv50 Def\":119,\"Lv50 Int\":139,\"Lv50 Spd\":203},{\"Number\":230,\"Digimon\":\"Crusadermon\",\"Stage\":\"Mega\",\"Type\":\"Virus\",\"Attribute\":\"Dark\",\"Memory\":22,\"Equip Slots\":1,\"Lv 50 HP\":1240,\"Lv50 SP\":153,\"Lv50 Atk\":144,\"Lv50 Def\":139,\"Lv50 Int\":144,\"Lv50 Spd\":193},{\"Number\":231,\"Digimon\":\"Rosemon\",\"Stage\":\"Mega\",\"Type\":\"Data\",\"Attribute\":\"Plant\",\"Memory\":18,\"Equip Slots\":3,\"Lv 50 HP\":1330,\"Lv50 SP\":147,\"Lv50 Atk\":144,\"Lv50 Def\":129,\"Lv50 Int\":149,\"Lv50 Spd\":144},{\"Number\":232,\"Digimon\":\"Lotosmon\",\"Stage\":\"Mega\",\"Type\":\"Data\",\"Attribute\":\"Plant\",\"Memory\":18,\"Equip Slots\":3,\"Lv 50 HP\":940,\"Lv50 SP\":188,\"Lv50 Atk\":74,\"Lv50 Def\":109,\"Lv50 Int\":213,\"Lv50 Spd\":168},{\"Number\":233,\"Digimon\":\"Imperialdramon PM\",\"Stage\":\"Ultra\",\"Type\":\"Vaccine\",\"Attribute\":\"Light\",\"Memory\":25,\"Equip Slots\":1,\"Lv 50 HP\":1530,\"Lv50 SP\":158,\"Lv50 Atk\":154,\"Lv50 Def\":154,\"Lv50 Int\":154,\"Lv50 Spd\":153},{\"Number\":234,\"Digimon\":\"Omnimon\",\"Stage\":\"Ultra\",\"Type\":\"Vaccine\",\"Attribute\":\"Light\",\"Memory\":25,\"Equip Slots\":1,\"Lv 50 HP\":1680,\"Lv50 SP\":104,\"Lv50 Atk\":208,\"Lv50 Def\":168,\"Lv50 Int\":134,\"Lv50 Spd\":144},{\"Number\":235,\"Digimon\":\"Omnimon Zwart\",\"Stage\":\"Ultra\",\"Type\":\"Vaccine\",\"Attribute\":\"Dark\",\"Memory\":25,\"Equip Slots\":1,\"Lv 50 HP\":1490,\"Lv50 SP\":139,\"Lv50 Atk\":153,\"Lv50 Def\":193,\"Lv50 Int\":158,\"Lv50 Spd\":134},{\"Number\":236,\"Digimon\":\"Belphemon RM\",\"Stage\":\"Ultra\",\"Type\":\"Virus\",\"Attribute\":\"Dark\",\"Memory\":25,\"Equip Slots\":0,\"Lv 50 HP\":1780,\"Lv50 SP\":84,\"Lv50 Atk\":247,\"Lv50 Def\":168,\"Lv50 Int\":109,\"Lv50 Spd\":140},{\"Number\":237,\"Digimon\":\"Lucemon SM\",\"Stage\":\"Ultra\",\"Type\":\"Virus\",\"Attribute\":\"Dark\",\"Memory\":25,\"Equip Slots\":0,\"Lv 50 HP\":1490,\"Lv50 SP\":173,\"Lv50 Atk\":89,\"Lv50 Def\":124,\"Lv50 Int\":233,\"Lv50 Spd\":158},{\"Number\":238,\"Digimon\":\"Flamedramon\",\"Stage\":\"Armor\",\"Type\":\"Free\",\"Attribute\":\"Fire\",\"Memory\":8,\"Equip Slots\":3,\"Lv 50 HP\":1130,\"Lv50 SP\":93,\"Lv50 Atk\":119,\"Lv50 Def\":99,\"Lv50 Int\":89,\"Lv50 Spd\":138},{\"Number\":239,\"Digimon\":\"Magnamon\",\"Stage\":\"Armor\",\"Type\":\"Free\",\"Attribute\":\"Earth\",\"Memory\":22,\"Equip Slots\":2,\"Lv 50 HP\":1240,\"Lv50 SP\":124,\"Lv50 Atk\":168,\"Lv50 Def\":208,\"Lv50 Int\":148,\"Lv50 Spd\":124},{\"Number\":240,\"Digimon\":\"Rapidmon (Armor)\",\"Stage\":\"Armor\",\"Type\":\"Vaccine\",\"Attribute\":\"Light\",\"Memory\":18,\"Equip Slots\":3,\"Lv 50 HP\":1140,\"Lv50 SP\":114,\"Lv50 Atk\":158,\"Lv50 Def\":178,\"Lv50 Int\":158,\"Lv50 Spd\":124},{\"Number\":241,\"Digimon\":\"Kerpymon (Blk)\",\"Stage\":\"Mega\",\"Type\":\"Virus\",\"Attribute\":\"Dark\",\"Memory\":20,\"Equip Slots\":1,\"Lv 50 HP\":1290,\"Lv50 SP\":188,\"Lv50 Atk\":94,\"Lv50 Def\":94,\"Lv50 Int\":223,\"Lv50 Spd\":153},{\"Number\":242,\"Digimon\":\"Beelzemon BM\",\"Stage\":\"Mega\",\"Type\":\"Virus\",\"Attribute\":\"Dark\",\"Memory\":25,\"Equip Slots\":1,\"Lv 50 HP\":1680,\"Lv50 SP\":114,\"Lv50 Atk\":238,\"Lv50 Def\":124,\"Lv50 Int\":104,\"Lv50 Spd\":178},{\"Number\":243,\"Digimon\":\"Darkdramon\",\"Stage\":\"Mega\",\"Type\":\"Virus\",\"Attribute\":\"Electric\",\"Memory\":18,\"Equip Slots\":3,\"Lv 50 HP\":1580,\"Lv50 SP\":94,\"Lv50 Atk\":188,\"Lv50 Def\":148,\"Lv50 Int\":99,\"Lv50 Spd\":139},{\"Number\":244,\"Digimon\":\"Chaosmon\",\"Stage\":\"Ultra\",\"Type\":\"Vaccine\",\"Attribute\":\"Neutral\",\"Memory\":25,\"Equip Slots\":2,\"Lv 50 HP\":1080,\"Lv50 SP\":129,\"Lv50 Atk\":318,\"Lv50 Def\":94,\"Lv50 Int\":89,\"Lv50 Spd\":188},{\"Number\":245,\"Digimon\":\"Valkyrimon\",\"Stage\":\"Mega\",\"Type\":\"Free\",\"Attribute\":\"Wind\",\"Memory\":18,\"Equip Slots\":3,\"Lv 50 HP\":1330,\"Lv50 SP\":139,\"Lv50 Atk\":148,\"Lv50 Def\":129,\"Lv50 Int\":129,\"Lv50 Spd\":168},{\"Number\":246,\"Digimon\":\"ShineGreymon BM\",\"Stage\":\"Mega\",\"Type\":\"Vaccine\",\"Attribute\":\"Fire\",\"Memory\":22,\"Equip Slots\":2,\"Lv 50 HP\":1980,\"Lv50 SP\":114,\"Lv50 Atk\":228,\"Lv50 Def\":104,\"Lv50 Int\":84,\"Lv50 Spd\":168},{\"Number\":247,\"Digimon\":\"MirageGaogamon BM\",\"Stage\":\"Mega\",\"Type\":\"Data\",\"Attribute\":\"Light\",\"Memory\":20,\"Equip Slots\":2,\"Lv 50 HP\":1440,\"Lv50 SP\":124,\"Lv50 Atk\":178,\"Lv50 Def\":104,\"Lv50 Int\":158,\"Lv50 Spd\":174},{\"Number\":248,\"Digimon\":\"Ravemon BM\",\"Stage\":\"Mega\",\"Type\":\"Vaccine\",\"Attribute\":\"Wind\",\"Memory\":20,\"Equip Slots\":2,\"Lv 50 HP\":1040,\"Lv50 SP\":133,\"Lv50 Atk\":149,\"Lv50 Def\":139,\"Lv50 Int\":144,\"Lv50 Spd\":213},{\"Number\":249,\"Digimon\":\"Rosemon BM\",\"Stage\":\"Mega\",\"Type\":\"Data\",\"Attribute\":\"Plant\",\"Memory\":20,\"Equip Slots\":2,\"Lv 50 HP\":1480,\"Lv50 SP\":143,\"Lv50 Atk\":149,\"Lv50 Def\":139,\"Lv50 Int\":159,\"Lv50 Spd\":143}]\n"
          ]
        }
      ],
      "source": [
        "with open(\"output/DigiDB_digimonlist.json\") as f:\n",
        "    lines = f.read()\n",
        "    first_line = lines.split('\\n', 1)[0]\n",
        "\n",
        "print(first_line)\n",
        "# Print all file because there are not '\\n' defining lines."
      ]
    },
    {
      "cell_type": "markdown",
      "metadata": {
        "id": "3xZ0eHi5gLh5"
      },
      "source": [
        "Verifica se a conversão deu certo revertendo a operação"
      ]
    },
    {
      "cell_type": "code",
      "execution_count": 16,
      "metadata": {
        "id": "-52AF_yygLh5"
      },
      "outputs": [],
      "source": [
        "df_json_csv = pd.read_json('output/DigiDB_digimonlist.json', lines=False)\n",
        "df_json_csv.to_csv('output/DigiDB_digimonlist_json.csv')"
      ]
    },
    {
      "cell_type": "code",
      "execution_count": 17,
      "metadata": {
        "colab": {
          "base_uri": "https://localhost:8080/",
          "height": 206
        },
        "id": "iA0rpwcpgLh5",
        "outputId": "205dee71-9cc0-4a08-97ea-1fccde58e433"
      },
      "outputs": [
        {
          "data": {
            "text/html": [
              "\n",
              "  <div id=\"df-c32a398f-e8c8-4083-b9e7-50fe5236aab2\">\n",
              "    <div class=\"colab-df-container\">\n",
              "      <div>\n",
              "<style scoped>\n",
              "    .dataframe tbody tr th:only-of-type {\n",
              "        vertical-align: middle;\n",
              "    }\n",
              "\n",
              "    .dataframe tbody tr th {\n",
              "        vertical-align: top;\n",
              "    }\n",
              "\n",
              "    .dataframe thead th {\n",
              "        text-align: right;\n",
              "    }\n",
              "</style>\n",
              "<table border=\"1\" class=\"dataframe\">\n",
              "  <thead>\n",
              "    <tr style=\"text-align: right;\">\n",
              "      <th></th>\n",
              "      <th>Number</th>\n",
              "      <th>Digimon</th>\n",
              "      <th>Stage</th>\n",
              "      <th>Type</th>\n",
              "      <th>Attribute</th>\n",
              "      <th>Memory</th>\n",
              "      <th>Equip Slots</th>\n",
              "      <th>Lv 50 HP</th>\n",
              "      <th>Lv50 SP</th>\n",
              "      <th>Lv50 Atk</th>\n",
              "      <th>Lv50 Def</th>\n",
              "      <th>Lv50 Int</th>\n",
              "      <th>Lv50 Spd</th>\n",
              "    </tr>\n",
              "  </thead>\n",
              "  <tbody>\n",
              "    <tr>\n",
              "      <th>0</th>\n",
              "      <td>1</td>\n",
              "      <td>Kuramon</td>\n",
              "      <td>Baby</td>\n",
              "      <td>Free</td>\n",
              "      <td>Neutral</td>\n",
              "      <td>2</td>\n",
              "      <td>0</td>\n",
              "      <td>590</td>\n",
              "      <td>77</td>\n",
              "      <td>79</td>\n",
              "      <td>69</td>\n",
              "      <td>68</td>\n",
              "      <td>95</td>\n",
              "    </tr>\n",
              "    <tr>\n",
              "      <th>1</th>\n",
              "      <td>2</td>\n",
              "      <td>Pabumon</td>\n",
              "      <td>Baby</td>\n",
              "      <td>Free</td>\n",
              "      <td>Neutral</td>\n",
              "      <td>2</td>\n",
              "      <td>0</td>\n",
              "      <td>950</td>\n",
              "      <td>62</td>\n",
              "      <td>76</td>\n",
              "      <td>76</td>\n",
              "      <td>69</td>\n",
              "      <td>68</td>\n",
              "    </tr>\n",
              "    <tr>\n",
              "      <th>2</th>\n",
              "      <td>3</td>\n",
              "      <td>Punimon</td>\n",
              "      <td>Baby</td>\n",
              "      <td>Free</td>\n",
              "      <td>Neutral</td>\n",
              "      <td>2</td>\n",
              "      <td>0</td>\n",
              "      <td>870</td>\n",
              "      <td>50</td>\n",
              "      <td>97</td>\n",
              "      <td>87</td>\n",
              "      <td>50</td>\n",
              "      <td>75</td>\n",
              "    </tr>\n",
              "    <tr>\n",
              "      <th>3</th>\n",
              "      <td>4</td>\n",
              "      <td>Botamon</td>\n",
              "      <td>Baby</td>\n",
              "      <td>Free</td>\n",
              "      <td>Neutral</td>\n",
              "      <td>2</td>\n",
              "      <td>0</td>\n",
              "      <td>690</td>\n",
              "      <td>68</td>\n",
              "      <td>77</td>\n",
              "      <td>95</td>\n",
              "      <td>76</td>\n",
              "      <td>61</td>\n",
              "    </tr>\n",
              "    <tr>\n",
              "      <th>4</th>\n",
              "      <td>5</td>\n",
              "      <td>Poyomon</td>\n",
              "      <td>Baby</td>\n",
              "      <td>Free</td>\n",
              "      <td>Neutral</td>\n",
              "      <td>2</td>\n",
              "      <td>0</td>\n",
              "      <td>540</td>\n",
              "      <td>98</td>\n",
              "      <td>54</td>\n",
              "      <td>59</td>\n",
              "      <td>95</td>\n",
              "      <td>86</td>\n",
              "    </tr>\n",
              "  </tbody>\n",
              "</table>\n",
              "</div>\n",
              "      <button class=\"colab-df-convert\" onclick=\"convertToInteractive('df-c32a398f-e8c8-4083-b9e7-50fe5236aab2')\"\n",
              "              title=\"Convert this dataframe to an interactive table.\"\n",
              "              style=\"display:none;\">\n",
              "        \n",
              "  <svg xmlns=\"http://www.w3.org/2000/svg\" height=\"24px\"viewBox=\"0 0 24 24\"\n",
              "       width=\"24px\">\n",
              "    <path d=\"M0 0h24v24H0V0z\" fill=\"none\"/>\n",
              "    <path d=\"M18.56 5.44l.94 2.06.94-2.06 2.06-.94-2.06-.94-.94-2.06-.94 2.06-2.06.94zm-11 1L8.5 8.5l.94-2.06 2.06-.94-2.06-.94L8.5 2.5l-.94 2.06-2.06.94zm10 10l.94 2.06.94-2.06 2.06-.94-2.06-.94-.94-2.06-.94 2.06-2.06.94z\"/><path d=\"M17.41 7.96l-1.37-1.37c-.4-.4-.92-.59-1.43-.59-.52 0-1.04.2-1.43.59L10.3 9.45l-7.72 7.72c-.78.78-.78 2.05 0 2.83L4 21.41c.39.39.9.59 1.41.59.51 0 1.02-.2 1.41-.59l7.78-7.78 2.81-2.81c.8-.78.8-2.07 0-2.86zM5.41 20L4 18.59l7.72-7.72 1.47 1.35L5.41 20z\"/>\n",
              "  </svg>\n",
              "      </button>\n",
              "      \n",
              "  <style>\n",
              "    .colab-df-container {\n",
              "      display:flex;\n",
              "      flex-wrap:wrap;\n",
              "      gap: 12px;\n",
              "    }\n",
              "\n",
              "    .colab-df-convert {\n",
              "      background-color: #E8F0FE;\n",
              "      border: none;\n",
              "      border-radius: 50%;\n",
              "      cursor: pointer;\n",
              "      display: none;\n",
              "      fill: #1967D2;\n",
              "      height: 32px;\n",
              "      padding: 0 0 0 0;\n",
              "      width: 32px;\n",
              "    }\n",
              "\n",
              "    .colab-df-convert:hover {\n",
              "      background-color: #E2EBFA;\n",
              "      box-shadow: 0px 1px 2px rgba(60, 64, 67, 0.3), 0px 1px 3px 1px rgba(60, 64, 67, 0.15);\n",
              "      fill: #174EA6;\n",
              "    }\n",
              "\n",
              "    [theme=dark] .colab-df-convert {\n",
              "      background-color: #3B4455;\n",
              "      fill: #D2E3FC;\n",
              "    }\n",
              "\n",
              "    [theme=dark] .colab-df-convert:hover {\n",
              "      background-color: #434B5C;\n",
              "      box-shadow: 0px 1px 3px 1px rgba(0, 0, 0, 0.15);\n",
              "      filter: drop-shadow(0px 1px 2px rgba(0, 0, 0, 0.3));\n",
              "      fill: #FFFFFF;\n",
              "    }\n",
              "  </style>\n",
              "\n",
              "      <script>\n",
              "        const buttonEl =\n",
              "          document.querySelector('#df-c32a398f-e8c8-4083-b9e7-50fe5236aab2 button.colab-df-convert');\n",
              "        buttonEl.style.display =\n",
              "          google.colab.kernel.accessAllowed ? 'block' : 'none';\n",
              "\n",
              "        async function convertToInteractive(key) {\n",
              "          const element = document.querySelector('#df-c32a398f-e8c8-4083-b9e7-50fe5236aab2');\n",
              "          const dataTable =\n",
              "            await google.colab.kernel.invokeFunction('convertToInteractive',\n",
              "                                                     [key], {});\n",
              "          if (!dataTable) return;\n",
              "\n",
              "          const docLinkHtml = 'Like what you see? Visit the ' +\n",
              "            '<a target=\"_blank\" href=https://colab.research.google.com/notebooks/data_table.ipynb>data table notebook</a>'\n",
              "            + ' to learn more about interactive tables.';\n",
              "          element.innerHTML = '';\n",
              "          dataTable['output_type'] = 'display_data';\n",
              "          await google.colab.output.renderOutput(dataTable, element);\n",
              "          const docLink = document.createElement('div');\n",
              "          docLink.innerHTML = docLinkHtml;\n",
              "          element.appendChild(docLink);\n",
              "        }\n",
              "      </script>\n",
              "    </div>\n",
              "  </div>\n",
              "  "
            ],
            "text/plain": [
              "   Number  Digimon Stage  Type Attribute  Memory  Equip Slots  Lv 50 HP  \\\n",
              "0       1  Kuramon  Baby  Free   Neutral       2            0       590   \n",
              "1       2  Pabumon  Baby  Free   Neutral       2            0       950   \n",
              "2       3  Punimon  Baby  Free   Neutral       2            0       870   \n",
              "3       4  Botamon  Baby  Free   Neutral       2            0       690   \n",
              "4       5  Poyomon  Baby  Free   Neutral       2            0       540   \n",
              "\n",
              "   Lv50 SP  Lv50 Atk  Lv50 Def  Lv50 Int  Lv50 Spd  \n",
              "0       77        79        69        68        95  \n",
              "1       62        76        76        69        68  \n",
              "2       50        97        87        50        75  \n",
              "3       68        77        95        76        61  \n",
              "4       98        54        59        95        86  "
            ]
          },
          "execution_count": 17,
          "metadata": {},
          "output_type": "execute_result"
        }
      ],
      "source": [
        "df_json_csv.head()"
      ]
    },
    {
      "cell_type": "markdown",
      "metadata": {
        "id": "FO08QMxmQEty"
      },
      "source": [
        "## Referências\n",
        "\n",
        "- https://softhints.com/python-convert-json-to-json-lines/\n",
        "- https://localcoder.org/read-json-file-as-pandas-dataframe\n",
        "- https://galea.medium.com/how-to-love-jsonl-using-json-line-format-in-your-workflow-b6884f65175b"
      ]
    }
  ],
  "metadata": {
    "colab": {
      "collapsed_sections": [
        "3GOMbMyZNAlN",
        "T3lYd5wlNF6C"
      ],
      "name": "ConversaoArquivosCSV.ipynb",
      "provenance": []
    },
    "kernelspec": {
      "display_name": "Python 3",
      "name": "python3"
    },
    "language_info": {
      "name": "python"
    }
  },
  "nbformat": 4,
  "nbformat_minor": 0
}
