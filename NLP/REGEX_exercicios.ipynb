{
  "cells": [
    {
      "cell_type": "markdown",
      "metadata": {
        "id": "PyI9UdQvslbb"
      },
      "source": [
        "Autores:\n",
        "\n",
        "Alice Borges - @aliceborges42 (180011855)\n",
        "Guilherme Coelho - @GuiCoelhoDev (160123046)\n",
        "Mayara Chew - @mayarachew"
      ]
    },
    {
      "cell_type": "code",
      "execution_count": 341,
      "metadata": {
        "id": "Inv_r6kNsg5G"
      },
      "outputs": [],
      "source": [
        "import pandas as pd\n",
        "import re"
      ]
    },
    {
      "cell_type": "code",
      "execution_count": 342,
      "metadata": {
        "id": "GQkf4lpqt59X"
      },
      "outputs": [],
      "source": [
        "text = pd.read_csv('https://raw.githubusercontent.com/viniciusrpb/cic0269_natural_language_processing/main/diario_oficial_pref_sp/dosp_29012016.csv')"
      ]
    },
    {
      "cell_type": "code",
      "execution_count": 356,
      "metadata": {
        "colab": {
          "base_uri": "https://localhost:8080/",
          "height": 257
        },
        "id": "Ugs-5ZvWuORP",
        "outputId": "62b94dee-3c0d-4a43-d7ba-ac48310f40f4"
      },
      "outputs": [
        {
          "data": {
            "text/html": [
              "\n",
              "  <div id=\"df-378e3fa0-87ad-48df-89bb-a1c46b32a402\">\n",
              "    <div class=\"colab-df-container\">\n",
              "      <div>\n",
              "<style scoped>\n",
              "    .dataframe tbody tr th:only-of-type {\n",
              "        vertical-align: middle;\n",
              "    }\n",
              "\n",
              "    .dataframe tbody tr th {\n",
              "        vertical-align: top;\n",
              "    }\n",
              "\n",
              "    .dataframe thead th {\n",
              "        text-align: right;\n",
              "    }\n",
              "</style>\n",
              "<table border=\"1\" class=\"dataframe\">\n",
              "  <thead>\n",
              "    <tr style=\"text-align: right;\">\n",
              "      <th></th>\n",
              "      <th>ID</th>\n",
              "      <th>Data</th>\n",
              "      <th>Retranca</th>\n",
              "      <th>Tipo do Conteúdo</th>\n",
              "      <th>Secretaria</th>\n",
              "      <th>Orgão</th>\n",
              "      <th>Texto</th>\n",
              "      <th>Unnamed: 7</th>\n",
              "      <th>Unnamed: 8</th>\n",
              "      <th>Unnamed: 9</th>\n",
              "      <th>Unnamed: 10</th>\n",
              "      <th>Unnamed: 11</th>\n",
              "      <th>Unnamed: 12</th>\n",
              "    </tr>\n",
              "  </thead>\n",
              "  <tbody>\n",
              "    <tr>\n",
              "      <th>0</th>\n",
              "      <td>2016/01/29/0</td>\n",
              "      <td>2016-01-29T00:00:00Z</td>\n",
              "      <td>efmaadm</td>\n",
              "      <td>LICITAÇÕES</td>\n",
              "      <td>-</td>\n",
              "      <td>-</td>\n",
              "      <td>((TITULO))Extrato de Termo de Aditamento\\n((TE...</td>\n",
              "      <td>NaN</td>\n",
              "      <td>NaN</td>\n",
              "      <td>NaN</td>\n",
              "      <td>NaN</td>\n",
              "      <td>NaN</td>\n",
              "      <td>NaN</td>\n",
              "    </tr>\n",
              "    <tr>\n",
              "      <th>1</th>\n",
              "      <td>2016/01/29/1</td>\n",
              "      <td>2016-01-29T00:00:00Z</td>\n",
              "      <td>efaaadm</td>\n",
              "      <td>LICITAÇÕES</td>\n",
              "      <td>CULTURA</td>\n",
              "      <td>GABINETE DO SECRETÁRIO</td>\n",
              "      <td>((TITULO))CONTRAÇÃO DE NATUREZA ARTÍSTICA\\n\\n(...</td>\n",
              "      <td>NaN</td>\n",
              "      <td>NaN</td>\n",
              "      <td>NaN</td>\n",
              "      <td>NaN</td>\n",
              "      <td>NaN</td>\n",
              "      <td>NaN</td>\n",
              "    </tr>\n",
              "    <tr>\n",
              "      <th>2</th>\n",
              "      <td>2016/01/29/2</td>\n",
              "      <td>2016-01-29T00:00:00Z</td>\n",
              "      <td>efmaadm</td>\n",
              "      <td>LICITAÇÕES</td>\n",
              "      <td>-</td>\n",
              "      <td>-</td>\n",
              "      <td>((TITULO))Extrato de Termo de Aditamento\\n((TE...</td>\n",
              "      <td>NaN</td>\n",
              "      <td>NaN</td>\n",
              "      <td>NaN</td>\n",
              "      <td>NaN</td>\n",
              "      <td>NaN</td>\n",
              "      <td>NaN</td>\n",
              "    </tr>\n",
              "  </tbody>\n",
              "</table>\n",
              "</div>\n",
              "      <button class=\"colab-df-convert\" onclick=\"convertToInteractive('df-378e3fa0-87ad-48df-89bb-a1c46b32a402')\"\n",
              "              title=\"Convert this dataframe to an interactive table.\"\n",
              "              style=\"display:none;\">\n",
              "        \n",
              "  <svg xmlns=\"http://www.w3.org/2000/svg\" height=\"24px\"viewBox=\"0 0 24 24\"\n",
              "       width=\"24px\">\n",
              "    <path d=\"M0 0h24v24H0V0z\" fill=\"none\"/>\n",
              "    <path d=\"M18.56 5.44l.94 2.06.94-2.06 2.06-.94-2.06-.94-.94-2.06-.94 2.06-2.06.94zm-11 1L8.5 8.5l.94-2.06 2.06-.94-2.06-.94L8.5 2.5l-.94 2.06-2.06.94zm10 10l.94 2.06.94-2.06 2.06-.94-2.06-.94-.94-2.06-.94 2.06-2.06.94z\"/><path d=\"M17.41 7.96l-1.37-1.37c-.4-.4-.92-.59-1.43-.59-.52 0-1.04.2-1.43.59L10.3 9.45l-7.72 7.72c-.78.78-.78 2.05 0 2.83L4 21.41c.39.39.9.59 1.41.59.51 0 1.02-.2 1.41-.59l7.78-7.78 2.81-2.81c.8-.78.8-2.07 0-2.86zM5.41 20L4 18.59l7.72-7.72 1.47 1.35L5.41 20z\"/>\n",
              "  </svg>\n",
              "      </button>\n",
              "      \n",
              "  <style>\n",
              "    .colab-df-container {\n",
              "      display:flex;\n",
              "      flex-wrap:wrap;\n",
              "      gap: 12px;\n",
              "    }\n",
              "\n",
              "    .colab-df-convert {\n",
              "      background-color: #E8F0FE;\n",
              "      border: none;\n",
              "      border-radius: 50%;\n",
              "      cursor: pointer;\n",
              "      display: none;\n",
              "      fill: #1967D2;\n",
              "      height: 32px;\n",
              "      padding: 0 0 0 0;\n",
              "      width: 32px;\n",
              "    }\n",
              "\n",
              "    .colab-df-convert:hover {\n",
              "      background-color: #E2EBFA;\n",
              "      box-shadow: 0px 1px 2px rgba(60, 64, 67, 0.3), 0px 1px 3px 1px rgba(60, 64, 67, 0.15);\n",
              "      fill: #174EA6;\n",
              "    }\n",
              "\n",
              "    [theme=dark] .colab-df-convert {\n",
              "      background-color: #3B4455;\n",
              "      fill: #D2E3FC;\n",
              "    }\n",
              "\n",
              "    [theme=dark] .colab-df-convert:hover {\n",
              "      background-color: #434B5C;\n",
              "      box-shadow: 0px 1px 3px 1px rgba(0, 0, 0, 0.15);\n",
              "      filter: drop-shadow(0px 1px 2px rgba(0, 0, 0, 0.3));\n",
              "      fill: #FFFFFF;\n",
              "    }\n",
              "  </style>\n",
              "\n",
              "      <script>\n",
              "        const buttonEl =\n",
              "          document.querySelector('#df-378e3fa0-87ad-48df-89bb-a1c46b32a402 button.colab-df-convert');\n",
              "        buttonEl.style.display =\n",
              "          google.colab.kernel.accessAllowed ? 'block' : 'none';\n",
              "\n",
              "        async function convertToInteractive(key) {\n",
              "          const element = document.querySelector('#df-378e3fa0-87ad-48df-89bb-a1c46b32a402');\n",
              "          const dataTable =\n",
              "            await google.colab.kernel.invokeFunction('convertToInteractive',\n",
              "                                                     [key], {});\n",
              "          if (!dataTable) return;\n",
              "\n",
              "          const docLinkHtml = 'Like what you see? Visit the ' +\n",
              "            '<a target=\"_blank\" href=https://colab.research.google.com/notebooks/data_table.ipynb>data table notebook</a>'\n",
              "            + ' to learn more about interactive tables.';\n",
              "          element.innerHTML = '';\n",
              "          dataTable['output_type'] = 'display_data';\n",
              "          await google.colab.output.renderOutput(dataTable, element);\n",
              "          const docLink = document.createElement('div');\n",
              "          docLink.innerHTML = docLinkHtml;\n",
              "          element.appendChild(docLink);\n",
              "        }\n",
              "      </script>\n",
              "    </div>\n",
              "  </div>\n",
              "  "
            ],
            "text/plain": [
              "             ID                  Data Retranca Tipo do Conteúdo Secretaria  \\\n",
              "0  2016/01/29/0  2016-01-29T00:00:00Z  efmaadm       LICITAÇÕES          -   \n",
              "1  2016/01/29/1  2016-01-29T00:00:00Z  efaaadm       LICITAÇÕES    CULTURA   \n",
              "2  2016/01/29/2  2016-01-29T00:00:00Z  efmaadm       LICITAÇÕES          -   \n",
              "\n",
              "                    Orgão                                              Texto  \\\n",
              "0                       -  ((TITULO))Extrato de Termo de Aditamento\\n((TE...   \n",
              "1  GABINETE DO SECRETÁRIO  ((TITULO))CONTRAÇÃO DE NATUREZA ARTÍSTICA\\n\\n(...   \n",
              "2                       -  ((TITULO))Extrato de Termo de Aditamento\\n((TE...   \n",
              "\n",
              "  Unnamed: 7 Unnamed: 8 Unnamed: 9 Unnamed: 10 Unnamed: 11 Unnamed: 12  \n",
              "0        NaN        NaN        NaN         NaN         NaN         NaN  \n",
              "1        NaN        NaN        NaN         NaN         NaN         NaN  \n",
              "2        NaN        NaN        NaN         NaN         NaN         NaN  "
            ]
          },
          "execution_count": 356,
          "metadata": {},
          "output_type": "execute_result"
        }
      ],
      "source": [
        "text.head(3)"
      ]
    },
    {
      "cell_type": "code",
      "execution_count": 344,
      "metadata": {
        "id": "wGBdaQ27uRh9"
      },
      "outputs": [],
      "source": [
        "texto1 = text['Texto'][0]\n",
        "texto2 = text['Texto'][19]\n",
        "texto3 = text['Texto'][2]\n",
        "texto4 = text['Texto'][55]\n",
        "texto5 = text['Texto'][28]"
      ]
    },
    {
      "cell_type": "code",
      "execution_count": 345,
      "metadata": {
        "colab": {
          "base_uri": "https://localhost:8080/",
          "height": 73
        },
        "id": "u_RGP6vtujPJ",
        "outputId": "b0ff9c7f-e187-4c61-946c-c09a59d00b34"
      },
      "outputs": [
        {
          "data": {
            "application/vnd.google.colaboratory.intrinsic+json": {
              "type": "string"
            },
            "text/plain": [
              "'((TITULO))Extrato de Termo de Aditamento\\n((TEXTO))((NG))2013-0.009.972-7((CL)). OBJETO: Prorrogação Contratual da Escola de Dança de São Paulo, referente aos meses de janeiro a março de 2016. CONTRATANTE: ((NG))FTMSP/EDSP((CL)) e CONTRATADO: Sandra Lúcia Gomes; Função: Oficinas Práticas de Dança; Valor Total R$ 14.100,00. Termo de Aditamento nº 021/2016.\\n\\n'"
            ]
          },
          "execution_count": 345,
          "metadata": {},
          "output_type": "execute_result"
        }
      ],
      "source": [
        "texto1"
      ]
    },
    {
      "cell_type": "code",
      "execution_count": 346,
      "metadata": {
        "colab": {
          "base_uri": "https://localhost:8080/",
          "height": 144
        },
        "id": "ehN3SmNSukV1",
        "outputId": "308b3291-cb71-4be2-a5fa-d270f8252c7e"
      },
      "outputs": [
        {
          "data": {
            "application/vnd.google.colaboratory.intrinsic+json": {
              "type": "string"
            },
            "text/plain": [
              "'((TITULO))DEPARTAMENTO DE ALIMENTAÇÃO ESCOLAR\\n((TEXTO))\\n((NG))Do Processo N.º 2015-0.336.152-3((CL))\\nInteressado: SME-DAE \\nAssunto: Ata de RP nº 01/SME/DAE/2014 – Aquisição de leite em pó integral – Programa Leve-Leite\\nDESPACHO\\nI. À vista das informações que instruem o presente, notadamente a requisição de compras de fls. 14, a justificativa de quantitativos de fls. 02/14, a pesquisa de preços de fls. 60 e a manifestação da Assessoria Jurídica de fls. retro, AUTORIZO, pela competência delegada pela Portaria SME nº 4.772/15, mediante apresentação de documentação de regularidade fiscal e CADIN da empresa detentora da Ata, a utilização da Ata de Registro de Preços nº 01/SME/DAE/2014, cuja detentora é ALNUTRI ALIMENTOS LTDA., CNPJ 07.747.780/0001-87, para aquisição de 370.620 quilos de leite em pó, pelo valor estimado de R$ 4.714.286,40 (quatro milhões, setecentos e catorze mil e duzentos e oitenta e seis reais e quarenta centavos).\\nII. As despesas decorrentes da contratação ora autorizada onerarão as dotações orçamentárias nº 1600.1624.12.306.3010.2.873.3.3.90.32.00.00.'"
            ]
          },
          "execution_count": 346,
          "metadata": {},
          "output_type": "execute_result"
        }
      ],
      "source": [
        "texto2"
      ]
    },
    {
      "cell_type": "code",
      "execution_count": 347,
      "metadata": {
        "colab": {
          "base_uri": "https://localhost:8080/",
          "height": 73
        },
        "id": "R4HnT7jbuldV",
        "outputId": "ef6c229e-3e01-473f-c29f-46aaa1aedf95"
      },
      "outputs": [
        {
          "data": {
            "application/vnd.google.colaboratory.intrinsic+json": {
              "type": "string"
            },
            "text/plain": [
              "'((TITULO))Extrato de Termo de Aditamento\\n((TEXTO))((NG))2013-0.009.972-7((CL)). OBJETO: Prorrogação Contratual da Escola de Dança de São Paulo, referente aos meses de janeiro a março de 2016. CONTRATANTE: ((NG))FTMSP/EDSP((CL)) e CONTRATADO: Cristina Carneiro; Função: Pianista junto as oficinas de Dança; Valor Total R$ 14.100,00 Termo de Aditamento nº 021/2016.\\n\\n'"
            ]
          },
          "execution_count": 347,
          "metadata": {},
          "output_type": "execute_result"
        }
      ],
      "source": [
        "texto3"
      ]
    },
    {
      "cell_type": "code",
      "execution_count": 348,
      "metadata": {
        "colab": {
          "base_uri": "https://localhost:8080/",
          "height": 144
        },
        "id": "Ix5OdloVu0FU",
        "outputId": "40993fe1-8ac0-4b4a-b6b9-2c685091f63c"
      },
      "outputs": [
        {
          "data": {
            "application/vnd.google.colaboratory.intrinsic+json": {
              "type": "string"
            },
            "text/plain": [
              "'((TITULO)) DIRETORIA REGIONAL DE EDUCAÇÃO SÃO MATEUS\\nDESPACHO DA DIRETORA REGIONAL\\n((TEXTO))((NG))2014-0.162.291-3 ((CL)),Centro Social Nossa Senhora do Bom Parto, inscrito no CNPJ: 62.264.494/0001 - 79, aditamento de convênio – CEI Parque dos Bancários. I - À vista dos elementos constantes dos autos, em especial as manifestações da Assistente Técnica de Engenharia, do Setor de Demanda, do Setor de Convênios, do Setor de Contabilidade, da Supervisão Escolar, do Assistente Técnico Jurídico da Diretoria Regional de Educação São Mateus, que acolho e adoto como razões de decidir, ((NG))AUTORIZO((CL)), com fundamento nas Portarias SME nº 4.772/15, nº 3.477/2011 e alterações posteriores, o aditamento do Termo de Convênio nº 187/SME/2014-RI, firmado com a entidade convenente denominada “Centro Social Nossa Senhora do Bom Parto”, inscrito no CNPJ sob nº 62.264.494/0001-79, para funcionamento do CEI Parque dos Bancários, objetivando a alteração da faixa etária; redução do atendimento no berçário; ampliação da capacidade de atendimento para 240 crianças, na faixa etária de 1 a 3 anos, sendo 53 de berçário e mediante repasse mensal de R$ 116.406,40 e atualização do per capita nos termos da Portaria 3477/11 e alterações posteriores II - O aditamento será formalizado conforme a minuta de fls. 237; III - As despesas decorrentes da presente autorização onerarão a dotação orçamentária nº 16.23.12.365.3010.2.825.3.3.50.39.00.00; IV - A documentação exigida pela Portaria SME nº 3.477/2011 deverá estar em vigor no momento da efetiva celebração do aditamento.\\n'"
            ]
          },
          "execution_count": 348,
          "metadata": {},
          "output_type": "execute_result"
        }
      ],
      "source": [
        "texto4"
      ]
    },
    {
      "cell_type": "code",
      "execution_count": 349,
      "metadata": {
        "colab": {
          "base_uri": "https://localhost:8080/",
          "height": 73
        },
        "id": "BT9xGP1UvDvX",
        "outputId": "c96f0d99-22ce-455a-8863-543d57b4a99a"
      },
      "outputs": [
        {
          "data": {
            "application/vnd.google.colaboratory.intrinsic+json": {
              "type": "string"
            },
            "text/plain": [
              "'((TITULO))Extrato de Termo de Aditamento\\n((TEXTO))((NG))2013-0.009.972-7((CL)). OBJETO: Prorrogação Contratual da Escola de Dança de São Paulo, referente aos meses de janeiro a março de 2016. CONTRATANTE: ((NG))FTMSP/EDSP((CL)) e CONTRATADO: Sabine Marien Pissara; Função: Oficinas de Música; Valor Total R$ 14.100,00. Termo de Aditamento nº 021/2016.\\n\\n'"
            ]
          },
          "execution_count": 349,
          "metadata": {},
          "output_type": "execute_result"
        }
      ],
      "source": [
        "texto5"
      ]
    },
    {
      "cell_type": "code",
      "execution_count": 350,
      "metadata": {
        "id": "9W-jW5rIzqNA"
      },
      "outputs": [],
      "source": [
        "list_titulo = []\n",
        "\n",
        "regex_titulo = r'\\(\\(TITULO\\)\\) ?([A-Za-zÃÇÍ ]+)\\n'\n",
        "list_titulo.append(re.findall(regex_titulo, texto1))\n",
        "list_titulo.append(re.findall(regex_titulo, texto2))\n",
        "list_titulo.append(re.findall(regex_titulo, texto3))\n",
        "list_titulo.append(re.findall(regex_titulo, texto4))\n",
        "list_titulo.append(re.findall(regex_titulo, texto5))"
      ]
    },
    {
      "cell_type": "code",
      "execution_count": 351,
      "metadata": {
        "id": "6rZ7SbgR7nfF"
      },
      "outputs": [],
      "source": [
        "list_processo = []\n",
        "\n",
        "regex_processo = r'\\d{4}-\\d.\\d{3}.\\d{3}-\\d'\n",
        "\n",
        "list_processo.append(re.findall(regex_processo, texto1))\n",
        "list_processo.append(re.findall(regex_processo, texto2))\n",
        "list_processo.append(re.findall(regex_processo, texto3))\n",
        "list_processo.append(re.findall(regex_processo, texto4))\n",
        "list_processo.append(re.findall(regex_processo, texto5))"
      ]
    },
    {
      "cell_type": "code",
      "execution_count": 352,
      "metadata": {
        "id": "biojCHuIvgCz"
      },
      "outputs": [],
      "source": [
        "list_real = []\n",
        "\n",
        "regex_real = r'[R][$][ ][\\d]*[.]?[\\d]*[.]?[\\d]*[,]?[\\d]*'\n",
        "\n",
        "list_real.append(re.findall(regex_real, texto1))\n",
        "list_real.append(re.findall(regex_real, texto2))\n",
        "list_real.append(re.findall(regex_real, texto3))\n",
        "list_real.append(re.findall(regex_real, texto4))\n",
        "list_real.append(re.findall(regex_real, texto5))"
      ]
    },
    {
      "cell_type": "code",
      "execution_count": 353,
      "metadata": {
        "id": "NWvLXrRxxIw3"
      },
      "outputs": [],
      "source": [
        "dataframe = pd.DataFrame()"
      ]
    },
    {
      "cell_type": "code",
      "execution_count": 354,
      "metadata": {
        "id": "gN_UZZ8pxXrx"
      },
      "outputs": [],
      "source": [
        "dataframe['titulo'] = list_titulo\n",
        "dataframe['processo'] = list_processo\n",
        "dataframe['real'] = list_real"
      ]
    },
    {
      "cell_type": "code",
      "execution_count": 355,
      "metadata": {
        "colab": {
          "base_uri": "https://localhost:8080/",
          "height": 206
        },
        "id": "PPq108q_xeQM",
        "outputId": "76c36b32-2a0c-4e8c-fd4f-9717e63df116"
      },
      "outputs": [
        {
          "data": {
            "text/html": [
              "\n",
              "  <div id=\"df-03c1b67a-809b-46f5-8d7e-269db7069947\">\n",
              "    <div class=\"colab-df-container\">\n",
              "      <div>\n",
              "<style scoped>\n",
              "    .dataframe tbody tr th:only-of-type {\n",
              "        vertical-align: middle;\n",
              "    }\n",
              "\n",
              "    .dataframe tbody tr th {\n",
              "        vertical-align: top;\n",
              "    }\n",
              "\n",
              "    .dataframe thead th {\n",
              "        text-align: right;\n",
              "    }\n",
              "</style>\n",
              "<table border=\"1\" class=\"dataframe\">\n",
              "  <thead>\n",
              "    <tr style=\"text-align: right;\">\n",
              "      <th></th>\n",
              "      <th>titulo</th>\n",
              "      <th>processo</th>\n",
              "      <th>real</th>\n",
              "    </tr>\n",
              "  </thead>\n",
              "  <tbody>\n",
              "    <tr>\n",
              "      <th>0</th>\n",
              "      <td>[Extrato de Termo de Aditamento]</td>\n",
              "      <td>[2013-0.009.972-7]</td>\n",
              "      <td>[R$ 14.100,00]</td>\n",
              "    </tr>\n",
              "    <tr>\n",
              "      <th>1</th>\n",
              "      <td>[DEPARTAMENTO DE ALIMENTAÇÃO ESCOLAR]</td>\n",
              "      <td>[2015-0.336.152-3]</td>\n",
              "      <td>[R$ 4.714.286,40]</td>\n",
              "    </tr>\n",
              "    <tr>\n",
              "      <th>2</th>\n",
              "      <td>[Extrato de Termo de Aditamento]</td>\n",
              "      <td>[2013-0.009.972-7]</td>\n",
              "      <td>[R$ 14.100,00]</td>\n",
              "    </tr>\n",
              "    <tr>\n",
              "      <th>3</th>\n",
              "      <td>[DIRETORIA REGIONAL DE EDUCAÇÃO SÃO MATEUS]</td>\n",
              "      <td>[2014-0.162.291-3]</td>\n",
              "      <td>[R$ 116.406,40]</td>\n",
              "    </tr>\n",
              "    <tr>\n",
              "      <th>4</th>\n",
              "      <td>[Extrato de Termo de Aditamento]</td>\n",
              "      <td>[2013-0.009.972-7]</td>\n",
              "      <td>[R$ 14.100,00]</td>\n",
              "    </tr>\n",
              "  </tbody>\n",
              "</table>\n",
              "</div>\n",
              "      <button class=\"colab-df-convert\" onclick=\"convertToInteractive('df-03c1b67a-809b-46f5-8d7e-269db7069947')\"\n",
              "              title=\"Convert this dataframe to an interactive table.\"\n",
              "              style=\"display:none;\">\n",
              "        \n",
              "  <svg xmlns=\"http://www.w3.org/2000/svg\" height=\"24px\"viewBox=\"0 0 24 24\"\n",
              "       width=\"24px\">\n",
              "    <path d=\"M0 0h24v24H0V0z\" fill=\"none\"/>\n",
              "    <path d=\"M18.56 5.44l.94 2.06.94-2.06 2.06-.94-2.06-.94-.94-2.06-.94 2.06-2.06.94zm-11 1L8.5 8.5l.94-2.06 2.06-.94-2.06-.94L8.5 2.5l-.94 2.06-2.06.94zm10 10l.94 2.06.94-2.06 2.06-.94-2.06-.94-.94-2.06-.94 2.06-2.06.94z\"/><path d=\"M17.41 7.96l-1.37-1.37c-.4-.4-.92-.59-1.43-.59-.52 0-1.04.2-1.43.59L10.3 9.45l-7.72 7.72c-.78.78-.78 2.05 0 2.83L4 21.41c.39.39.9.59 1.41.59.51 0 1.02-.2 1.41-.59l7.78-7.78 2.81-2.81c.8-.78.8-2.07 0-2.86zM5.41 20L4 18.59l7.72-7.72 1.47 1.35L5.41 20z\"/>\n",
              "  </svg>\n",
              "      </button>\n",
              "      \n",
              "  <style>\n",
              "    .colab-df-container {\n",
              "      display:flex;\n",
              "      flex-wrap:wrap;\n",
              "      gap: 12px;\n",
              "    }\n",
              "\n",
              "    .colab-df-convert {\n",
              "      background-color: #E8F0FE;\n",
              "      border: none;\n",
              "      border-radius: 50%;\n",
              "      cursor: pointer;\n",
              "      display: none;\n",
              "      fill: #1967D2;\n",
              "      height: 32px;\n",
              "      padding: 0 0 0 0;\n",
              "      width: 32px;\n",
              "    }\n",
              "\n",
              "    .colab-df-convert:hover {\n",
              "      background-color: #E2EBFA;\n",
              "      box-shadow: 0px 1px 2px rgba(60, 64, 67, 0.3), 0px 1px 3px 1px rgba(60, 64, 67, 0.15);\n",
              "      fill: #174EA6;\n",
              "    }\n",
              "\n",
              "    [theme=dark] .colab-df-convert {\n",
              "      background-color: #3B4455;\n",
              "      fill: #D2E3FC;\n",
              "    }\n",
              "\n",
              "    [theme=dark] .colab-df-convert:hover {\n",
              "      background-color: #434B5C;\n",
              "      box-shadow: 0px 1px 3px 1px rgba(0, 0, 0, 0.15);\n",
              "      filter: drop-shadow(0px 1px 2px rgba(0, 0, 0, 0.3));\n",
              "      fill: #FFFFFF;\n",
              "    }\n",
              "  </style>\n",
              "\n",
              "      <script>\n",
              "        const buttonEl =\n",
              "          document.querySelector('#df-03c1b67a-809b-46f5-8d7e-269db7069947 button.colab-df-convert');\n",
              "        buttonEl.style.display =\n",
              "          google.colab.kernel.accessAllowed ? 'block' : 'none';\n",
              "\n",
              "        async function convertToInteractive(key) {\n",
              "          const element = document.querySelector('#df-03c1b67a-809b-46f5-8d7e-269db7069947');\n",
              "          const dataTable =\n",
              "            await google.colab.kernel.invokeFunction('convertToInteractive',\n",
              "                                                     [key], {});\n",
              "          if (!dataTable) return;\n",
              "\n",
              "          const docLinkHtml = 'Like what you see? Visit the ' +\n",
              "            '<a target=\"_blank\" href=https://colab.research.google.com/notebooks/data_table.ipynb>data table notebook</a>'\n",
              "            + ' to learn more about interactive tables.';\n",
              "          element.innerHTML = '';\n",
              "          dataTable['output_type'] = 'display_data';\n",
              "          await google.colab.output.renderOutput(dataTable, element);\n",
              "          const docLink = document.createElement('div');\n",
              "          docLink.innerHTML = docLinkHtml;\n",
              "          element.appendChild(docLink);\n",
              "        }\n",
              "      </script>\n",
              "    </div>\n",
              "  </div>\n",
              "  "
            ],
            "text/plain": [
              "                                        titulo            processo  \\\n",
              "0             [Extrato de Termo de Aditamento]  [2013-0.009.972-7]   \n",
              "1        [DEPARTAMENTO DE ALIMENTAÇÃO ESCOLAR]  [2015-0.336.152-3]   \n",
              "2             [Extrato de Termo de Aditamento]  [2013-0.009.972-7]   \n",
              "3  [DIRETORIA REGIONAL DE EDUCAÇÃO SÃO MATEUS]  [2014-0.162.291-3]   \n",
              "4             [Extrato de Termo de Aditamento]  [2013-0.009.972-7]   \n",
              "\n",
              "                real  \n",
              "0     [R$ 14.100,00]  \n",
              "1  [R$ 4.714.286,40]  \n",
              "2     [R$ 14.100,00]  \n",
              "3    [R$ 116.406,40]  \n",
              "4     [R$ 14.100,00]  "
            ]
          },
          "execution_count": 355,
          "metadata": {},
          "output_type": "execute_result"
        }
      ],
      "source": [
        "dataframe"
      ]
    }
  ],
  "metadata": {
    "colab": {
      "name": "PNL_teste1.ipynb",
      "provenance": []
    },
    "kernelspec": {
      "display_name": "Python 3",
      "name": "python3"
    },
    "language_info": {
      "name": "python"
    }
  },
  "nbformat": 4,
  "nbformat_minor": 0
}
